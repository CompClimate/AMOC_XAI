{
 "cells": [
  {
   "cell_type": "code",
   "execution_count": 1,
   "id": "f6abba12",
   "metadata": {},
   "outputs": [],
   "source": [
    "import shap\n",
    "import keras\n",
    "import numpy as np\n",
    "from keras.models import Sequential, Model\n",
    "from keras.layers import Dense, Reshape, Flatten, Input, Dropout, LSTM\n",
    "from keras.optimizers import Adam, SGD, RMSprop\n",
    "from sklearn.preprocessing import normalize\n",
    "from sklearn.model_selection import train_test_split\n",
    "from sklearn.preprocessing import StandardScaler\n",
    "import matplotlib.pyplot as plt"
   ]
  },
  {
   "cell_type": "code",
   "execution_count": 2,
   "id": "0bcc47fa",
   "metadata": {},
   "outputs": [],
   "source": [
    "# nonstationary forcing \n",
    "input_data = np.load('data/input_sal_temp_ns.npy')\n",
    "output_data = np.load('data/output_sal_temp_ns.npy')"
   ]
  },
  {
   "cell_type": "code",
   "execution_count": 3,
   "id": "0a95b48e",
   "metadata": {},
   "outputs": [],
   "source": [
    "X_train = input_data[0:75000]\n",
    "y_train = output_data[0:75000]\n",
    "X_val = input_data[75000:90000]\n",
    "y_val = output_data[75000:90000]\n",
    "X_test = input_data[90000:100000]\n",
    "y_test = output_data[90000:100000] "
   ]
  },
  {
   "cell_type": "code",
   "execution_count": 4,
   "id": "ba23680a",
   "metadata": {},
   "outputs": [],
   "source": [
    "scaler = StandardScaler()\n",
    "scaler.fit(X_train)\n",
    "scaler.mean_,scaler.scale_\n",
    "\n",
    "X_train_scaled = scaler.transform(X_train)\n",
    "X_val_scaled = scaler.transform(X_val)\n",
    "X_test_scaled = scaler.transform(X_test)\n",
    "input_scaled = scaler.transform(input_data)\n",
    "\n",
    "Y_train = keras.utils.to_categorical(y_train)\n",
    "Y_val = keras.utils.to_categorical(y_val)\n",
    "Y_test = keras.utils.to_categorical(y_test)\n",
    "output_scaled = keras.utils.to_categorical(output_data)"
   ]
  },
  {
   "cell_type": "code",
   "execution_count": 10,
   "id": "5ff0acf7",
   "metadata": {},
   "outputs": [
    {
     "name": "stdout",
     "output_type": "stream",
     "text": [
      "Input shape: (14991, 10, 5)\n",
      "Output shape: (74991, 2)\n"
     ]
    }
   ],
   "source": [
    "# sequences to input into LSTM \n",
    "def create_sequences(input_data, output_data, time_steps):\n",
    "    input_sequences, output_sequences = [], []\n",
    "    for i in range(len(input_data) - time_steps + 1):\n",
    "        input_sequences.append(input_data[i:i + time_steps])\n",
    "        output_sequences.append(output_data[i + time_steps - 1]) \n",
    "    return np.array(input_sequences), np.array(output_sequences)\n",
    "\n",
    "time_steps = 10\n",
    "feature_dim = 5\n",
    "\n",
    "X_train_seq, y_train_seq = create_sequences(X_train_scaled, Y_train, time_steps)\n",
    "X_val_seq, y_val_seq = create_sequences(X_val_scaled, Y_val, time_steps)\n",
    "X_test_seq, y_test_seq = create_sequences(X_test_scaled, Y_test, time_steps)\n",
    "input_seq, output_seq = create_sequences(input_scaled, output_scaled, time_steps)\n",
    "\n",
    "print(\"Input shape:\", X_val_seq.shape)  \n",
    "print(\"Output shape:\", y_train_seq.shape) \n"
   ]
  },
  {
   "cell_type": "code",
   "execution_count": 11,
   "id": "77c1eb62",
   "metadata": {},
   "outputs": [],
   "source": [
    "train_sample = shap.sample(X_train_seq, 100)\n",
    "input_sample = shap.sample(input_seq, 100)"
   ]
  },
  {
   "cell_type": "code",
   "execution_count": 12,
   "id": "6512575c",
   "metadata": {},
   "outputs": [
    {
     "data": {
      "text/plain": [
       "(100, 10, 5)"
      ]
     },
     "execution_count": 12,
     "metadata": {},
     "output_type": "execute_result"
    }
   ],
   "source": [
    "# 100 samples, 10 time steps, 5 features\n",
    "train_sample.shape"
   ]
  },
  {
   "cell_type": "code",
   "execution_count": 13,
   "id": "1cc081f7",
   "metadata": {},
   "outputs": [],
   "source": [
    "# removing time feature \n",
    "train_sample_wo_time = train_sample[:, :, 1:5]\n",
    "input_sample_wo_time = input_sample[:, :, 1:5]"
   ]
  },
  {
   "cell_type": "code",
   "execution_count": 14,
   "id": "adad8c40",
   "metadata": {},
   "outputs": [],
   "source": [
    "model = Sequential([\n",
    "    LSTM(8, input_shape=(time_steps, feature_dim-1), return_sequences=False),  \n",
    "    Dense(4, activation='relu'), \n",
    "    Dense(2, activation='relu'),\n",
    "    Dense(2, activation='softmax')  \n",
    "])\n",
    "\n",
    "model.load_weights(\"lstm_wo_time.h5\")"
   ]
  },
  {
   "cell_type": "code",
   "execution_count": 15,
   "id": "2025f6b7",
   "metadata": {},
   "outputs": [],
   "source": [
    "model.compile(optimizer=Adam(learning_rate=0.001),\n",
    "              loss='binary_crossentropy',\n",
    "              metrics=['accuracy'])"
   ]
  },
  {
   "cell_type": "code",
   "execution_count": 16,
   "id": "be0a6de7",
   "metadata": {},
   "outputs": [
    {
     "data": {
      "text/plain": [
       "(100, 10, 4)"
      ]
     },
     "execution_count": 16,
     "metadata": {},
     "output_type": "execute_result"
    }
   ],
   "source": [
    "input_sample_wo_time.shape"
   ]
  },
  {
   "cell_type": "code",
   "execution_count": 17,
   "id": "7712ed82",
   "metadata": {},
   "outputs": [
    {
     "name": "stdout",
     "output_type": "stream",
     "text": [
      "4/4 [==============================] - 0s 2ms/step\n"
     ]
    },
    {
     "data": {
      "application/vnd.jupyter.widget-view+json": {
       "model_id": "d8fbb562a4cb436db11a772e119341c9",
       "version_major": 2,
       "version_minor": 0
      },
      "text/plain": [
       "  0%|          | 0/100 [00:00<?, ?it/s]"
      ]
     },
     "metadata": {},
     "output_type": "display_data"
    },
    {
     "name": "stdout",
     "output_type": "stream",
     "text": [
      "1/1 [==============================] - 0s 19ms/step\n",
      "6650/6650 [==============================] - 8s 1ms/step\n",
      "1/1 [==============================] - 0s 17ms/step\n",
      "6650/6650 [==============================] - 8s 1ms/step\n",
      "1/1 [==============================] - 0s 16ms/step\n",
      "6650/6650 [==============================] - 8s 1ms/step\n",
      "1/1 [==============================] - 0s 20ms/step\n",
      "6650/6650 [==============================] - 8s 1ms/step\n",
      "1/1 [==============================] - 0s 19ms/step\n",
      "6650/6650 [==============================] - 8s 1ms/step\n",
      "1/1 [==============================] - 0s 15ms/step\n",
      "6650/6650 [==============================] - 8s 1ms/step\n",
      "1/1 [==============================] - 0s 16ms/step\n",
      "6650/6650 [==============================] - 9s 1ms/step\n",
      "1/1 [==============================] - 0s 16ms/step\n",
      "6650/6650 [==============================] - 8s 1ms/step\n",
      "1/1 [==============================] - 0s 15ms/step\n",
      "6650/6650 [==============================] - 11s 2ms/step\n",
      "1/1 [==============================] - 0s 15ms/step\n",
      "6650/6650 [==============================] - 11s 2ms/step\n",
      "1/1 [==============================] - 0s 17ms/step\n",
      "6650/6650 [==============================] - 9s 1ms/step\n",
      "1/1 [==============================] - 0s 16ms/step\n",
      "6650/6650 [==============================] - 9s 1ms/step\n",
      "1/1 [==============================] - 0s 17ms/step\n",
      "6650/6650 [==============================] - 8s 1ms/step\n",
      "1/1 [==============================] - 0s 15ms/step\n",
      "6650/6650 [==============================] - 8s 1ms/step\n",
      "1/1 [==============================] - 0s 17ms/step\n",
      "6650/6650 [==============================] - 9s 1ms/step\n",
      "1/1 [==============================] - 0s 17ms/step\n",
      "6650/6650 [==============================] - 9s 1ms/step\n",
      "1/1 [==============================] - 0s 18ms/step\n",
      "6650/6650 [==============================] - 10s 1ms/step\n",
      "1/1 [==============================] - 0s 15ms/step\n",
      "6650/6650 [==============================] - 9s 1ms/step\n",
      "1/1 [==============================] - 0s 18ms/step\n",
      "6650/6650 [==============================] - 9s 1ms/step\n",
      "1/1 [==============================] - 0s 15ms/step\n",
      "6650/6650 [==============================] - 8s 1ms/step\n",
      "1/1 [==============================] - 0s 16ms/step\n",
      "6650/6650 [==============================] - 8s 1ms/step\n",
      "1/1 [==============================] - 0s 14ms/step\n",
      "6650/6650 [==============================] - 7s 1ms/step\n",
      "1/1 [==============================] - 0s 15ms/step\n",
      "6650/6650 [==============================] - 8s 1ms/step\n",
      "1/1 [==============================] - 0s 16ms/step\n",
      "6650/6650 [==============================] - 8s 1ms/step\n",
      "1/1 [==============================] - 0s 14ms/step\n",
      "6650/6650 [==============================] - 8s 1ms/step\n",
      "1/1 [==============================] - 0s 14ms/step\n",
      "6650/6650 [==============================] - 9s 1ms/step\n",
      "1/1 [==============================] - 0s 16ms/step\n",
      "6650/6650 [==============================] - 8s 1ms/step\n",
      "1/1 [==============================] - 0s 14ms/step\n",
      "6650/6650 [==============================] - 10s 1ms/step\n",
      "1/1 [==============================] - 0s 14ms/step\n",
      "6650/6650 [==============================] - 10s 1ms/step\n",
      "1/1 [==============================] - 0s 14ms/step\n",
      "6650/6650 [==============================] - 8s 1ms/step\n",
      "1/1 [==============================] - 0s 15ms/step\n",
      "6650/6650 [==============================] - 8s 1ms/step\n",
      "1/1 [==============================] - 0s 14ms/step\n",
      "6650/6650 [==============================] - 12s 2ms/step\n",
      "1/1 [==============================] - 0s 18ms/step\n",
      "6650/6650 [==============================] - 9s 1ms/step\n",
      "1/1 [==============================] - 0s 19ms/step\n",
      "6650/6650 [==============================] - 9s 1ms/step\n",
      "1/1 [==============================] - 0s 19ms/step\n",
      "6650/6650 [==============================] - 8s 1ms/step\n",
      "1/1 [==============================] - 0s 15ms/step\n",
      "6650/6650 [==============================] - 8s 1ms/step\n",
      "1/1 [==============================] - 0s 13ms/step\n",
      "6650/6650 [==============================] - 8s 1ms/step\n",
      "1/1 [==============================] - 0s 16ms/step\n",
      "6650/6650 [==============================] - 8s 1ms/step\n",
      "1/1 [==============================] - 0s 17ms/step\n",
      "6650/6650 [==============================] - 9s 1ms/step\n",
      "1/1 [==============================] - 0s 16ms/step\n",
      "6650/6650 [==============================] - 8s 1ms/step\n",
      "1/1 [==============================] - 0s 15ms/step\n",
      "6650/6650 [==============================] - 8s 1ms/step\n",
      "1/1 [==============================] - 0s 20ms/step\n",
      "6650/6650 [==============================] - 9s 1ms/step\n",
      "1/1 [==============================] - 0s 20ms/step\n",
      "6650/6650 [==============================] - 9s 1ms/step\n",
      "1/1 [==============================] - 0s 17ms/step\n",
      "6650/6650 [==============================] - 8s 1ms/step\n",
      "1/1 [==============================] - 0s 14ms/step\n",
      "6650/6650 [==============================] - 7s 1ms/step\n",
      "1/1 [==============================] - 0s 14ms/step\n",
      "6650/6650 [==============================] - 7s 1ms/step\n",
      "1/1 [==============================] - 0s 14ms/step\n",
      "6650/6650 [==============================] - 7s 1ms/step\n",
      "1/1 [==============================] - 0s 15ms/step\n",
      "6650/6650 [==============================] - 7s 1ms/step\n",
      "1/1 [==============================] - 0s 15ms/step\n",
      "6650/6650 [==============================] - 8s 1ms/step\n",
      "1/1 [==============================] - 0s 16ms/step\n",
      "6650/6650 [==============================] - 7s 1ms/step\n",
      "1/1 [==============================] - 0s 15ms/step\n",
      "6650/6650 [==============================] - 7s 1ms/step\n",
      "1/1 [==============================] - 0s 18ms/step\n",
      "6650/6650 [==============================] - 7s 1ms/step\n",
      "1/1 [==============================] - 0s 16ms/step\n",
      "6650/6650 [==============================] - 7s 1ms/step\n",
      "1/1 [==============================] - 0s 16ms/step\n",
      "6650/6650 [==============================] - 7s 1ms/step\n",
      "1/1 [==============================] - 0s 16ms/step\n",
      "6650/6650 [==============================] - 7s 1ms/step\n",
      "1/1 [==============================] - 0s 15ms/step\n",
      "6650/6650 [==============================] - 7s 1ms/step\n",
      "1/1 [==============================] - 0s 16ms/step\n",
      "6650/6650 [==============================] - 7s 1ms/step\n",
      "1/1 [==============================] - 0s 15ms/step\n",
      "6650/6650 [==============================] - 8s 1ms/step\n",
      "1/1 [==============================] - 0s 32ms/step\n",
      "6650/6650 [==============================] - 8s 1ms/step\n",
      "1/1 [==============================] - 0s 14ms/step\n",
      "6650/6650 [==============================] - 129s 19ms/step\n",
      "1/1 [==============================] - 0s 18ms/step\n",
      "6650/6650 [==============================] - 9s 1ms/step\n",
      "1/1 [==============================] - 0s 15ms/step\n",
      "6650/6650 [==============================] - 7s 1ms/step\n",
      "1/1 [==============================] - 0s 15ms/step\n",
      "6650/6650 [==============================] - 8s 1ms/step\n",
      "1/1 [==============================] - 0s 16ms/step\n",
      "6650/6650 [==============================] - 9s 1ms/step\n",
      "1/1 [==============================] - 0s 13ms/step\n",
      "6650/6650 [==============================] - 8s 1ms/step\n",
      "1/1 [==============================] - 0s 16ms/step\n",
      "6650/6650 [==============================] - 7s 1ms/step\n",
      "1/1 [==============================] - 0s 16ms/step\n",
      "6650/6650 [==============================] - 7s 1ms/step\n",
      "1/1 [==============================] - 0s 15ms/step\n",
      "6650/6650 [==============================] - 8s 1ms/step\n",
      "1/1 [==============================] - 0s 18ms/step\n",
      "6650/6650 [==============================] - 7s 1ms/step\n",
      "1/1 [==============================] - 0s 14ms/step\n",
      "6650/6650 [==============================] - 7s 1ms/step\n",
      "1/1 [==============================] - 0s 13ms/step\n",
      "6650/6650 [==============================] - 7s 1ms/step\n",
      "1/1 [==============================] - 0s 15ms/step\n",
      "6650/6650 [==============================] - 7s 1ms/step\n",
      "1/1 [==============================] - 0s 14ms/step\n",
      "6650/6650 [==============================] - 7s 1ms/step\n",
      "1/1 [==============================] - 0s 15ms/step\n",
      "6650/6650 [==============================] - 7s 1ms/step\n",
      "1/1 [==============================] - 0s 18ms/step\n",
      "6650/6650 [==============================] - 8s 1ms/step\n"
     ]
    },
    {
     "name": "stdout",
     "output_type": "stream",
     "text": [
      "1/1 [==============================] - 0s 14ms/step\n",
      "6650/6650 [==============================] - 7s 1ms/step\n",
      "1/1 [==============================] - 0s 15ms/step\n",
      "6650/6650 [==============================] - 8s 1ms/step\n",
      "1/1 [==============================] - 0s 16ms/step\n",
      "6650/6650 [==============================] - 7s 1ms/step\n",
      "1/1 [==============================] - 0s 15ms/step\n",
      "6650/6650 [==============================] - 7s 1ms/step\n",
      "1/1 [==============================] - 0s 16ms/step\n",
      "6650/6650 [==============================] - 7s 1ms/step\n",
      "1/1 [==============================] - 0s 15ms/step\n",
      "6650/6650 [==============================] - 7s 1ms/step\n",
      "1/1 [==============================] - 0s 14ms/step\n",
      "6650/6650 [==============================] - 7s 1ms/step\n",
      "1/1 [==============================] - 0s 15ms/step\n",
      "6650/6650 [==============================] - 7s 1ms/step\n",
      "1/1 [==============================] - 0s 15ms/step\n",
      "6650/6650 [==============================] - 7s 1ms/step\n",
      "1/1 [==============================] - 0s 14ms/step\n",
      "6650/6650 [==============================] - 7s 1ms/step\n",
      "1/1 [==============================] - 0s 15ms/step\n",
      "6650/6650 [==============================] - 7s 1ms/step\n",
      "1/1 [==============================] - 0s 18ms/step\n",
      "6650/6650 [==============================] - 7s 1ms/step\n",
      "1/1 [==============================] - 0s 17ms/step\n",
      "6650/6650 [==============================] - 7s 1ms/step\n",
      "1/1 [==============================] - 0s 14ms/step\n",
      "6650/6650 [==============================] - 7s 1ms/step\n",
      "1/1 [==============================] - 0s 13ms/step\n",
      "6650/6650 [==============================] - 8s 1ms/step\n",
      "1/1 [==============================] - 0s 16ms/step\n",
      "6650/6650 [==============================] - 7s 1ms/step\n",
      "1/1 [==============================] - 0s 15ms/step\n",
      "6650/6650 [==============================] - 7s 1ms/step\n",
      "1/1 [==============================] - 0s 14ms/step\n",
      "6650/6650 [==============================] - 7s 1ms/step\n",
      "1/1 [==============================] - 0s 15ms/step\n",
      "6650/6650 [==============================] - 7s 1ms/step\n",
      "1/1 [==============================] - 0s 15ms/step\n",
      "6650/6650 [==============================] - 7s 1ms/step\n",
      "1/1 [==============================] - 0s 14ms/step\n",
      "6650/6650 [==============================] - 7s 1ms/step\n",
      "1/1 [==============================] - 0s 14ms/step\n",
      "6650/6650 [==============================] - 7s 1ms/step\n",
      "1/1 [==============================] - 0s 14ms/step\n",
      "6650/6650 [==============================] - 7s 1ms/step\n",
      "1/1 [==============================] - 0s 17ms/step\n",
      "6650/6650 [==============================] - 7s 1ms/step\n",
      "1/1 [==============================] - 0s 15ms/step\n",
      "6650/6650 [==============================] - 7s 1ms/step\n"
     ]
    }
   ],
   "source": [
    "input_sample_flattened = input_sample_wo_time.reshape(input_sample_wo_time.shape[0], -1)\n",
    "\n",
    "# custom predict function for SHAP because explainer requires 2D input while model takes 3D input\n",
    "def predict_flattened(X):\n",
    "    X_reshaped = X.reshape(X.shape[0], time_steps, feature_dim-1)\n",
    "    return model.predict(X_reshaped)\n",
    "\n",
    "explainer = shap.KernelExplainer(predict_flattened, input_sample_flattened)\n",
    "\n",
    "shap_values = explainer.shap_values(input_sample_flattened)\n"
   ]
  },
  {
   "cell_type": "code",
   "execution_count": 123,
   "id": "3d189c48",
   "metadata": {},
   "outputs": [],
   "source": [
    "shap_values = np.array(shap_values)"
   ]
  },
  {
   "cell_type": "code",
   "execution_count": 124,
   "id": "702bfe0b",
   "metadata": {},
   "outputs": [
    {
     "name": "stdout",
     "output_type": "stream",
     "text": [
      "Aggregated SHAP shape: (2, 100, 4)\n"
     ]
    }
   ],
   "source": [
    "aggregated_shap = []\n",
    "\n",
    "for i in range(0, shap_values.shape[2], 10):\n",
    "    aggregated_shap.append(np.mean(shap_values[:, :, i:i+10], axis=2))\n",
    "\n",
    "shap_values_aggregated = np.stack(aggregated_shap, axis=2)\n",
    "\n",
    "print(\"Aggregated SHAP shape:\", shap_values_aggregated.shape)"
   ]
  },
  {
   "cell_type": "code",
   "execution_count": 125,
   "id": "8c7255c7",
   "metadata": {},
   "outputs": [
    {
     "data": {
      "text/plain": [
       "(100, 4)"
      ]
     },
     "execution_count": 125,
     "metadata": {},
     "output_type": "execute_result"
    }
   ],
   "source": [
    "shap_values_aggregated[1].shape"
   ]
  },
  {
   "cell_type": "code",
   "execution_count": 126,
   "id": "4eff99db",
   "metadata": {},
   "outputs": [
    {
     "data": {
      "text/plain": [
       "(100, 10, 4)"
      ]
     },
     "execution_count": 126,
     "metadata": {},
     "output_type": "execute_result"
    }
   ],
   "source": [
    "input_sample_wo_time.shape"
   ]
  },
  {
   "cell_type": "code",
   "execution_count": 127,
   "id": "151cce20",
   "metadata": {},
   "outputs": [
    {
     "data": {
      "image/png": "[encoded data removed]",
      "text/plain": [
       "<Figure size 576x223.2 with 2 Axes>"
      ]
     },
     "metadata": {
      "needs_background": "light"
     },
     "output_type": "display_data"
    }
   ],
   "source": [
    "shap.summary_plot(shap_values_aggregated[1], input_sample_wo_time[:, 0, :], feature_names=['salinity', 'temperature', 'salinity forcing', 'temp forcing'])"
   ]
  },
  {
   "cell_type": "code",
   "execution_count": 128,
   "id": "278d8951",
   "metadata": {},
   "outputs": [],
   "source": [
    "transformed_X = scaler.inverse_transform(input_sample[:, 0, :])"
   ]
  },
  {
   "cell_type": "code",
   "execution_count": 129,
   "id": "65ea6906",
   "metadata": {},
   "outputs": [
    {
     "data": {
      "text/plain": [
       "(100, 5)"
      ]
     },
     "execution_count": 129,
     "metadata": {},
     "output_type": "execute_result"
    }
   ],
   "source": [
    "transformed_X.shape"
   ]
  },
  {
   "cell_type": "code",
   "execution_count": 130,
   "id": "6c87ef33",
   "metadata": {},
   "outputs": [],
   "source": [
    "qvals = []\n",
    "alpha=0.2; \n",
    "beta=0.8; \n",
    "k=10e9\n",
    "for x in transformed_X: \n",
    "    DeltaT = x[2]\n",
    "    DeltaS = x[1]\n",
    "    qvals.append(-k*(-alpha*DeltaT + beta*DeltaS))"
   ]
  },
  {
   "cell_type": "code",
   "execution_count": 131,
   "id": "49484d0f",
   "metadata": {},
   "outputs": [],
   "source": [
    "k=1e9\n",
    "alpha=0.2\n",
    "beta=0.8"
   ]
  },
  {
   "cell_type": "code",
   "execution_count": 132,
   "id": "519ccd00",
   "metadata": {},
   "outputs": [],
   "source": [
    "def get_q_color(DeltaT, DeltaS):\n",
    "    q = -k*(-alpha*DeltaT + beta*DeltaS)\n",
    "    if q < 0:\n",
    "        return 'r'\n",
    "    else:\n",
    "        return 'b'"
   ]
  },
  {
   "cell_type": "code",
   "execution_count": 133,
   "id": "b5f8fbda",
   "metadata": {},
   "outputs": [],
   "source": [
    "time_total = np.load('data/input_sal_temp_ns.npy')[:, 0]"
   ]
  },
  {
   "cell_type": "code",
   "execution_count": 138,
   "id": "437af1cc",
   "metadata": {},
   "outputs": [
    {
     "data": {
      "text/plain": [
       "(2, 100, 4)"
      ]
     },
     "execution_count": 138,
     "metadata": {},
     "output_type": "execute_result"
    }
   ],
   "source": [
    "shap_values_aggregated.shape"
   ]
  },
  {
   "cell_type": "code",
   "execution_count": 144,
   "id": "77d15fde",
   "metadata": {},
   "outputs": [
    {
     "data": {
      "image/png": "[encoded data removed]",
      "text/plain": [
       "<Figure size 432x288 with 1 Axes>"
      ]
     },
     "metadata": {
      "needs_background": "light"
     },
     "output_type": "display_data"
    }
   ],
   "source": [
    "for i in range(100):\n",
    "    # temp > salinity => green\n",
    "    if shap_values_aggregated[0, i, 1] > shap_values_aggregated[0, i, 0]:\n",
    "        plt.scatter(transformed_X[i, 0], -k*(-alpha*transformed_X[i, 2] + beta*transformed_X[i, 1])/1e9, marker='o', s=18, color='#2ca02c')\n",
    "    else:\n",
    "        plt.scatter(transformed_X[i, 0], -k*(-alpha*transformed_X[i, 2] + beta*transformed_X[i, 1])/1e9, marker='o', s=18, color='#1f77b4')\n",
    "\n",
    "plt.xlabel('Time (kyr)');\n",
    "plt.ylabel('AMOC (Sv)');\n",
    "plt.title('Dependency of LSTM on Temperature and Salinity');\n",
    "\n",
    "q = np.load('data/q_sal_temp_ns.npy')\n",
    "plt.plot(time_total, q/1e10, linestyle=':', color='grey')\n",
    "plt.plot(time_total, input_data[:, 0]*0, 'k--')\n",
    "plt.axvline(input_data[75000][0], color='red', linestyle='dotted');\n",
    "\n",
    "# Define custom legend labels and colors (0 corresponds to one color, 1 to another)\n",
    "legend_labels = ['Temperature', 'Salinity', 'Circulation volume transport']  # Custom labels\n",
    "colors = ['#2ca02c', '#1f77b4']  # Corresponding colors for the categories\n",
    "\n",
    "# Create custom legend handles\n",
    "legend_handles = [plt.Line2D([0], [0], marker='o', color='w', markerfacecolor=color, markersize=10) for color in colors]\n",
    "grey_line_handle = plt.Line2D([0], [0], linestyle=':', color='grey')\n",
    "legend_handles.append(grey_line_handle)\n",
    "\n",
    "# Add the custom legend to the plot\n",
    "#plt.legend(legend_handles, legend_labels, loc='lower left');\n",
    "plt.savefig('dependency_plot_lstm_ns', dpi=300)"
   ]
  },
  {
   "cell_type": "code",
   "execution_count": null,
   "id": "926712a0",
   "metadata": {},
   "outputs": [],
   "source": []
  }
 ],
 "metadata": {
  "kernelspec": {
   "display_name": "Python 3",
   "language": "python",
   "name": "python3"
  },
  "language_info": {
   "codemirror_mode": {
    "name": "ipython",
    "version": 3
   },
   "file_extension": ".py",
   "mimetype": "text/x-python",
   "name": "python",
   "nbconvert_exporter": "python",
   "pygments_lexer": "ipython3",
   "version": "3.8.8"
  }
 },
 "nbformat": 4,
 "nbformat_minor": 5
}
