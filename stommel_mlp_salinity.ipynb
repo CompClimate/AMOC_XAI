{
 "cells": [
  {
   "cell_type": "code",
   "execution_count": 112,
   "id": "cfe3686d",
   "metadata": {},
   "outputs": [],
   "source": [
    "import keras\n",
    "import numpy as np\n",
    "from keras.models import Sequential, Model\n",
    "from keras.layers import Dense, Reshape, Flatten, Input, Dropout\n",
    "from keras.optimizers import Adam, SGD, RMSprop\n",
    "from sklearn.preprocessing import normalize\n",
    "from sklearn.model_selection import train_test_split\n",
    "from sklearn.preprocessing import StandardScaler\n",
    "import matplotlib.pyplot as plt\n",
    "import os"
   ]
  },
  {
   "cell_type": "code",
   "execution_count": 94,
   "id": "18a510f8",
   "metadata": {},
   "outputs": [],
   "source": [
    "# global constants\n",
    "Sv=1.e9 # m^3/sec"
   ]
  },
  {
   "cell_type": "code",
   "execution_count": 108,
   "id": "79d085e0",
   "metadata": {},
   "outputs": [],
   "source": [
    "# salinity only, linear forcing \n",
    "input_data = np.load('data/input_sal_linear.npy')\n",
    "output_data = np.load('data/output_sal_linear.npy')"
   ]
  },
  {
   "cell_type": "code",
   "execution_count": 109,
   "id": "169b886e",
   "metadata": {},
   "outputs": [],
   "source": [
    "X_train, X_rem, y_train, y_rem = train_test_split(input_data, output_data, test_size=0.2, random_state=42)\n",
    "X_val, X_test, y_val, y_test = train_test_split(X_rem, y_rem, test_size=0.5, random_state=42)"
   ]
  },
  {
   "cell_type": "code",
   "execution_count": 110,
   "id": "2aabb224",
   "metadata": {},
   "outputs": [],
   "source": [
    "scaler = StandardScaler()\n",
    "scaler.fit(X_train)\n",
    "scaler.mean_,scaler.scale_\n",
    "\n",
    "X_train_scaled = scaler.transform(X_train)\n",
    "X_val_scaled = scaler.transform(X_val)\n",
    "X_test_scaled = scaler.transform(X_test)\n",
    "input_scaled = scaler.transform(input_data)\n",
    "\n",
    "Y_train = keras.utils.to_categorical(y_train)\n",
    "Y_val = keras.utils.to_categorical(y_val)\n",
    "Y_test = keras.utils.to_categorical(y_test)"
   ]
  },
  {
   "cell_type": "code",
   "execution_count": 111,
   "id": "85a63614",
   "metadata": {},
   "outputs": [],
   "source": [
    "# defining the MLP\n",
    "model = Sequential()\n",
    "model.add(Dense(12, input_dim=4, activation='relu'))\n",
    "model.add(Dense(6, activation='relu'))\n",
    "model.add(Dense(3, activation='relu'))\n",
    "model.add(Dense(2, activation='softmax'))\n",
    "model.compile(loss='binary_crossentropy', optimizer='adam', metrics=['accuracy'])"
   ]
  },
  {
   "cell_type": "code",
   "execution_count": 100,
   "id": "0d6c5a88",
   "metadata": {},
   "outputs": [
    {
     "name": "stdout",
     "output_type": "stream",
     "text": [
      "Epoch 1/10\n",
      "10000/10000 [==============================] - 10s 960us/step - loss: 0.0234 - accuracy: 0.9884 - val_loss: 1.4860e-05 - val_accuracy: 1.0000\n",
      "Epoch 2/10\n",
      "10000/10000 [==============================] - 10s 974us/step - loss: 4.1665e-05 - accuracy: 1.0000 - val_loss: 1.4086e-06 - val_accuracy: 1.0000\n",
      "Epoch 3/10\n",
      "10000/10000 [==============================] - 9s 925us/step - loss: 6.1250e-05 - accuracy: 1.0000 - val_loss: 4.1502e-07 - val_accuracy: 1.0000\n",
      "Epoch 4/10\n",
      "10000/10000 [==============================] - 9s 934us/step - loss: 1.7289e-05 - accuracy: 1.0000 - val_loss: 1.2462e-06 - val_accuracy: 1.0000\n",
      "Epoch 5/10\n",
      "10000/10000 [==============================] - 9s 936us/step - loss: 1.0006e-04 - accuracy: 1.0000 - val_loss: 1.6154e-07 - val_accuracy: 1.0000\n",
      "Epoch 6/10\n",
      "10000/10000 [==============================] - 9s 931us/step - loss: 4.3976e-05 - accuracy: 1.0000 - val_loss: 1.3686e-07 - val_accuracy: 1.0000\n",
      "Epoch 7/10\n",
      "10000/10000 [==============================] - 9s 927us/step - loss: 4.7309e-05 - accuracy: 1.0000 - val_loss: 5.7086e-08 - val_accuracy: 1.0000\n",
      "Epoch 8/10\n",
      "10000/10000 [==============================] - 11s 1ms/step - loss: 6.3610e-05 - accuracy: 1.0000 - val_loss: 7.0554e-08 - val_accuracy: 1.0000\n",
      "Epoch 9/10\n",
      "10000/10000 [==============================] - 14s 1ms/step - loss: 6.7843e-05 - accuracy: 1.0000 - val_loss: 7.1074e-08 - val_accuracy: 1.0000\n",
      "Epoch 10/10\n",
      "10000/10000 [==============================] - 11s 1ms/step - loss: 4.4267e-05 - accuracy: 1.0000 - val_loss: 1.7516e-06 - val_accuracy: 1.0000\n"
     ]
    }
   ],
   "source": [
    "# Train the model on the training set and validate on the validation set\n",
    "model_eval = model.fit(X_train_scaled, Y_train, epochs=10, batch_size=8, validation_data=(X_val_scaled, Y_val))"
   ]
  },
  {
   "cell_type": "code",
   "execution_count": 101,
   "id": "313521b8",
   "metadata": {},
   "outputs": [
    {
     "name": "stdout",
     "output_type": "stream",
     "text": [
      "313/313 [==============================] - 0s 934us/step - loss: 1.6457e-06 - accuracy: 1.0000\n",
      "Test loss: 1.6457045148854377e-06\n",
      "Test accuracy: 1.0\n"
     ]
    }
   ],
   "source": [
    "loss, accuracy = model.evaluate(X_test_scaled, Y_test)\n",
    "print(f'Test loss: {loss}')\n",
    "print(f'Test accuracy: {accuracy}')"
   ]
  },
  {
   "cell_type": "code",
   "execution_count": 102,
   "id": "8d9a5e98",
   "metadata": {},
   "outputs": [
    {
     "data": {
      "image/png": "[encoded data removed]",
      "text/plain": [
       "<Figure size 432x288 with 1 Axes>"
      ]
     },
     "metadata": {
      "needs_background": "light"
     },
     "output_type": "display_data"
    }
   ],
   "source": [
    "plt.plot(model_eval.history['loss'], label='Training Loss');\n",
    "plt.plot(model_eval.history['val_loss'], label='Validation Loss');\n",
    "plt.title('Loss Plot');\n",
    "plt.legend();"
   ]
  },
  {
   "cell_type": "code",
   "execution_count": 103,
   "id": "368e93a5",
   "metadata": {},
   "outputs": [
    {
     "name": "stdout",
     "output_type": "stream",
     "text": [
      "3125/3125 [==============================] - 2s 652us/step\n"
     ]
    }
   ],
   "source": [
    "y_pred_all = model.predict(input_scaled)"
   ]
  },
  {
   "cell_type": "code",
   "execution_count": 104,
   "id": "0f1cf92c",
   "metadata": {},
   "outputs": [],
   "source": [
    "y_labels_all = np.argmax(y_pred_all, axis=-1)"
   ]
  },
  {
   "cell_type": "code",
   "execution_count": 105,
   "id": "8b96c0fd",
   "metadata": {},
   "outputs": [],
   "source": [
    "false_indices_sal_linear = []\n",
    "for i in range(len(y_labels_all)):\n",
    "    if y_labels_all[i] != output_data[i]:\n",
    "        false_indices_sal_linear.append(i)"
   ]
  },
  {
   "cell_type": "code",
   "execution_count": 106,
   "id": "1f028203",
   "metadata": {},
   "outputs": [],
   "source": [
    "qplot = np.load('data/q_sal_linear.npy')"
   ]
  },
  {
   "cell_type": "code",
   "execution_count": 107,
   "id": "6f335854",
   "metadata": {},
   "outputs": [
    {
     "data": {
      "image/png": "[encoded data removed]",
      "text/plain": [
       "<Figure size 432x288 with 1 Axes>"
      ]
     },
     "metadata": {
      "needs_background": "light"
     },
     "output_type": "display_data"
    }
   ],
   "source": [
    "plt.plot(input_data[:, 0], qplot/Sv);\n",
    "plt.plot(input_data[:, 0], input_data[:, 0]*0,'k--');\n",
    "plt.xlabel('t (time in kiloyears)');\n",
    "plt.ylabel('$q$');\n",
    "plt.title('Incorrect Predictions for AMOC');\n",
    "plt.scatter([input_data[:, 0][i] for i in false_indices_sal_linear], [qplot[i]/Sv for i in false_indices_sal_linear], marker='x', c='red');"
   ]
  },
  {
   "cell_type": "code",
   "execution_count": 114,
   "id": "83b0b8ad",
   "metadata": {},
   "outputs": [
    {
     "name": "stdout",
     "output_type": "stream",
     "text": [
      "0\n",
      "1\n",
      "2\n",
      "3\n",
      "4\n",
      "5\n",
      "6\n",
      "7\n",
      "8\n",
      "9\n"
     ]
    }
   ],
   "source": [
    "# training the ensemble \n",
    "for i in range(10):\n",
    "    print(i)\n",
    "    model = Sequential()\n",
    "    model.add(Dense(12, input_dim=4, activation='relu'))\n",
    "    model.add(Dense(6, activation='relu'))\n",
    "    model.add(Dense(3, activation='relu'))\n",
    "    model.add(Dense(2, activation='softmax'))\n",
    "    model.compile(loss='binary_crossentropy', optimizer='adam', metrics=['accuracy'])\n",
    "    es = keras.callbacks.EarlyStopping(monitor='val_loss', mode='min', verbose=1, patience=5)\n",
    "    history = model.fit(X_train_scaled, Y_train,\n",
    "                    batch_size=8,\n",
    "                    epochs=10,\n",
    "                    verbose=0,\n",
    "                    validation_data=(X_val_scaled, Y_val),\n",
    "                    callbacks=[es])#,\n",
    "    os.makedirs(\"models\", exist_ok=True)\n",
    "    model.save('models/stommel_model_linear_'+str(i)+'.h5')"
   ]
  },
  {
   "cell_type": "code",
   "execution_count": 117,
   "id": "cb53d6bd",
   "metadata": {},
   "outputs": [
    {
     "data": {
      "image/png": "[encoded data removed]",
      "text/plain": [
       "<Figure size 432x288 with 1 Axes>"
      ]
     },
     "metadata": {
      "needs_background": "light"
     },
     "output_type": "display_data"
    }
   ],
   "source": [
    "plt.plot(history.history['loss'], label='Training Loss');\n",
    "plt.plot(history.history['val_loss'], label='Validation Loss');\n",
    "plt.title('Loss Plot for Ensemble')\n",
    "plt.legend();"
   ]
  },
  {
   "cell_type": "code",
   "execution_count": 128,
   "id": "99e6311d",
   "metadata": {},
   "outputs": [
    {
     "name": "stdout",
     "output_type": "stream",
     "text": [
      "0\n",
      "313/313 [==============================] - 0s 741us/step - loss: 4.8539e-09 - accuracy: 1.0000\n",
      "Test loss: 4.8539421371174285e-09\n",
      "Test accuracy: 1.0\n",
      "1\n",
      "313/313 [==============================] - 0s 777us/step - loss: 1.8827e-06 - accuracy: 1.0000\n",
      "Test loss: 1.8827082612915547e-06\n",
      "Test accuracy: 1.0\n",
      "2\n",
      "313/313 [==============================] - 0s 847us/step - loss: 2.0723e-06 - accuracy: 1.0000\n",
      "Test loss: 2.0722886802104767e-06\n",
      "Test accuracy: 1.0\n",
      "3\n",
      "313/313 [==============================] - 0s 905us/step - loss: 0.5827 - accuracy: 0.7306\n",
      "Test loss: 0.5826919078826904\n",
      "Test accuracy: 0.7305999994277954\n",
      "4\n",
      "313/313 [==============================] - 0s 834us/step - loss: 6.8530e-08 - accuracy: 1.0000\n",
      "Test loss: 6.853040446230807e-08\n",
      "Test accuracy: 1.0\n",
      "5\n",
      "313/313 [==============================] - 0s 787us/step - loss: 4.5259e-08 - accuracy: 1.0000\n",
      "Test loss: 4.5258961023364463e-08\n",
      "Test accuracy: 1.0\n",
      "6\n",
      "313/313 [==============================] - 0s 1ms/step - loss: 5.0522e-08 - accuracy: 1.0000\n",
      "Test loss: 5.052184093301548e-08\n",
      "Test accuracy: 1.0\n",
      "7\n",
      "313/313 [==============================] - 0s 829us/step - loss: 4.5472e-09 - accuracy: 1.0000\n",
      "Test loss: 4.547235032958952e-09\n",
      "Test accuracy: 1.0\n",
      "8\n",
      "313/313 [==============================] - 0s 927us/step - loss: 2.3838e-06 - accuracy: 1.0000\n",
      "Test loss: 2.383778564762906e-06\n",
      "Test accuracy: 1.0\n",
      "9\n",
      "313/313 [==============================] - 0s 824us/step - loss: 3.3635e-06 - accuracy: 1.0000\n",
      "Test loss: 3.36351990881667e-06\n",
      "Test accuracy: 1.0\n"
     ]
    }
   ],
   "source": [
    "for i in range(10):\n",
    "    print(i)\n",
    "    model = Sequential()\n",
    "    model.add(Dense(12, input_dim=4, activation='relu'))\n",
    "    model.add(Dense(6, activation='relu'))\n",
    "    model.add(Dense(3, activation='relu'))\n",
    "    model.add(Dense(2, activation='softmax'))\n",
    "    model.load_weights('models/stommel_model_linear_'+str(i)+'.h5')\n",
    "    model.compile(loss='binary_crossentropy', optimizer='adam', metrics=['accuracy'])\n",
    "    loss, accuracy= model.evaluate(X_test_scaled, Y_test)\n",
    "    print(f'Test loss: {loss}')\n",
    "    print(f'Test accuracy: {accuracy}')"
   ]
  },
  {
   "cell_type": "code",
   "execution_count": 121,
   "id": "ab7e5f6f",
   "metadata": {},
   "outputs": [
    {
     "name": "stdout",
     "output_type": "stream",
     "text": [
      "0\n",
      "3125/3125 [==============================] - 2s 605us/step\n",
      "1\n",
      "3125/3125 [==============================] - 2s 583us/step\n",
      "2\n",
      "3125/3125 [==============================] - 2s 594us/step\n",
      "3\n",
      "3125/3125 [==============================] - 2s 590us/step\n",
      "4\n",
      "3125/3125 [==============================] - 2s 619us/step\n",
      "5\n",
      "3125/3125 [==============================] - 2s 657us/step\n",
      "6\n",
      "3125/3125 [==============================] - 2s 663us/step\n",
      "7\n",
      "3125/3125 [==============================] - 2s 708us/step\n",
      "8\n",
      "3125/3125 [==============================] - 2s 637us/step\n",
      "9\n",
      "3125/3125 [==============================] - 2s 610us/step\n"
     ]
    }
   ],
   "source": [
    "datapredicted_results_ensemble = np.nan * np.zeros((10, input_scaled.shape[0], 2))\n",
    "\n",
    "for i in range(10):\n",
    "    print(i)\n",
    "    model = Sequential()\n",
    "    model.add(Dense(12, input_dim=4, activation='relu'))\n",
    "    model.add(Dense(6, activation='relu'))\n",
    "    model.add(Dense(3, activation='relu'))\n",
    "    model.add(Dense(2, activation='softmax'))\n",
    "    model.load_weights('models/stommel_model_linear_'+str(i)+'.h5')\n",
    "    datapredicted = model.predict(input_scaled)\n",
    "    datapredicted_results_ensemble[i,...] = datapredicted"
   ]
  },
  {
   "cell_type": "code",
   "execution_count": 122,
   "id": "6c1182e7",
   "metadata": {},
   "outputs": [],
   "source": [
    "y_pred_ensemble = np.mean(datapredicted_results_ensemble, 0).argmax(axis=-1)"
   ]
  },
  {
   "cell_type": "code",
   "execution_count": 123,
   "id": "8e8acdb9",
   "metadata": {},
   "outputs": [],
   "source": [
    "false_indices_linear_ensemble = []"
   ]
  },
  {
   "cell_type": "code",
   "execution_count": 124,
   "id": "c8af4122",
   "metadata": {},
   "outputs": [],
   "source": [
    "for i in range(len(y_pred_ensemble)):\n",
    "    if y_pred_ensemble[i] != output_data[i]:\n",
    "        false_indices_linear_ensemble.append(i)"
   ]
  },
  {
   "cell_type": "code",
   "execution_count": 126,
   "id": "2a783348",
   "metadata": {},
   "outputs": [
    {
     "data": {
      "text/plain": [
       "[]"
      ]
     },
     "execution_count": 126,
     "metadata": {},
     "output_type": "execute_result"
    }
   ],
   "source": [
    "false_indices_linear_ensemble"
   ]
  },
  {
   "cell_type": "code",
   "execution_count": 125,
   "id": "119ab55c",
   "metadata": {},
   "outputs": [
    {
     "data": {
      "image/png": "[encoded data removed]",
      "text/plain": [
       "<Figure size 432x288 with 1 Axes>"
      ]
     },
     "metadata": {
      "needs_background": "light"
     },
     "output_type": "display_data"
    }
   ],
   "source": [
    "plt.plot(input_data[:, 0], qplot/Sv);\n",
    "plt.plot(input_data[:, 0], input_data[:, 0]*0,'k--');\n",
    "plt.xlabel('t (time in kiloyears)');\n",
    "plt.ylabel('$q$');\n",
    "plt.title('Incorrect Predictions for AMOC (Ensemble)');\n",
    "plt.scatter([input_data[:, 0][i] for i in false_indices_linear_ensemble], [qplot[i]/Sv for i in false_indices_linear_ensemble], marker='x', c='red');"
   ]
  },
  {
   "cell_type": "code",
   "execution_count": 140,
   "id": "4210c2aa",
   "metadata": {},
   "outputs": [],
   "source": [
    "# salinity only, sine forcing \n",
    "input_data = np.load('data/input_sal_sine.npy')\n",
    "output_data = np.load('data/output_sal_sine.npy')"
   ]
  },
  {
   "cell_type": "code",
   "execution_count": 141,
   "id": "06cdca90",
   "metadata": {},
   "outputs": [],
   "source": [
    "X_train, X_rem, y_train, y_rem = train_test_split(input_data, output_data, test_size=0.2, random_state=42)\n",
    "X_val, X_test, y_val, y_test = train_test_split(X_rem, y_rem, test_size=0.5, random_state=42)"
   ]
  },
  {
   "cell_type": "code",
   "execution_count": 142,
   "id": "6a3efebf",
   "metadata": {},
   "outputs": [],
   "source": [
    "scaler = StandardScaler()\n",
    "scaler.fit(X_train)\n",
    "scaler.mean_,scaler.scale_\n",
    "\n",
    "X_train_scaled = scaler.transform(X_train)\n",
    "X_val_scaled = scaler.transform(X_val)\n",
    "X_test_scaled = scaler.transform(X_test)\n",
    "input_scaled = scaler.transform(input_data)\n",
    "\n",
    "Y_train = keras.utils.to_categorical(y_train)\n",
    "Y_val = keras.utils.to_categorical(y_val)\n",
    "Y_test = keras.utils.to_categorical(y_test)"
   ]
  },
  {
   "cell_type": "code",
   "execution_count": 55,
   "id": "97e3cf15",
   "metadata": {},
   "outputs": [
    {
     "name": "stdout",
     "output_type": "stream",
     "text": [
      "Epoch 1/10\n",
      "10000/10000 [==============================] - 13s 1ms/step - loss: 0.0782 - accuracy: 0.9817 - val_loss: 0.0070 - val_accuracy: 0.9991\n",
      "Epoch 2/10\n",
      "10000/10000 [==============================] - 11s 1ms/step - loss: 0.0035 - accuracy: 0.9994 - val_loss: 0.0033 - val_accuracy: 0.9992\n",
      "Epoch 3/10\n",
      "10000/10000 [==============================] - 12s 1ms/step - loss: 0.0022 - accuracy: 0.9995 - val_loss: 0.0021 - val_accuracy: 0.9992\n",
      "Epoch 4/10\n",
      "10000/10000 [==============================] - 12s 1ms/step - loss: 0.0018 - accuracy: 0.9995 - val_loss: 0.0031 - val_accuracy: 0.9985\n",
      "Epoch 5/10\n",
      "10000/10000 [==============================] - 11s 1ms/step - loss: 0.0017 - accuracy: 0.9995 - val_loss: 0.0015 - val_accuracy: 0.9992\n",
      "Epoch 6/10\n",
      "10000/10000 [==============================] - 11s 1ms/step - loss: 0.0016 - accuracy: 0.9995 - val_loss: 0.0014 - val_accuracy: 0.9996\n",
      "Epoch 7/10\n",
      "10000/10000 [==============================] - 11s 1ms/step - loss: 0.0014 - accuracy: 0.9996 - val_loss: 0.0018 - val_accuracy: 0.9992\n",
      "Epoch 8/10\n",
      "10000/10000 [==============================] - 10s 966us/step - loss: 0.0013 - accuracy: 0.9996 - val_loss: 0.0023 - val_accuracy: 0.9992\n",
      "Epoch 9/10\n",
      "10000/10000 [==============================] - 10s 961us/step - loss: 0.0013 - accuracy: 0.9996 - val_loss: 0.0012 - val_accuracy: 0.9994\n",
      "Epoch 10/10\n",
      "10000/10000 [==============================] - 10s 968us/step - loss: 0.0011 - accuracy: 0.9996 - val_loss: 0.0018 - val_accuracy: 0.9995\n"
     ]
    }
   ],
   "source": [
    "# Train the model on the training set and validate on the validation set\n",
    "model_eval = model.fit(X_train_scaled, Y_train, epochs=10, batch_size=8, validation_data=(X_val_scaled, Y_val))"
   ]
  },
  {
   "cell_type": "code",
   "execution_count": 56,
   "id": "0af98cad",
   "metadata": {},
   "outputs": [
    {
     "name": "stdout",
     "output_type": "stream",
     "text": [
      "313/313 [==============================] - 0s 747us/step - loss: 0.0010 - accuracy: 0.9995\n",
      "Test loss: 0.001022834680043161\n",
      "Test accuracy: 0.9994999766349792\n"
     ]
    }
   ],
   "source": [
    "loss, accuracy = model.evaluate(X_test_scaled, Y_test)\n",
    "print(f'Test loss: {loss}')\n",
    "print(f'Test accuracy: {accuracy}')"
   ]
  },
  {
   "cell_type": "code",
   "execution_count": 57,
   "id": "46fe51e8",
   "metadata": {},
   "outputs": [
    {
     "data": {
      "image/png": "[encoded data removed]",
      "text/plain": [
       "<Figure size 432x288 with 1 Axes>"
      ]
     },
     "metadata": {
      "needs_background": "light"
     },
     "output_type": "display_data"
    }
   ],
   "source": [
    "plt.plot(model_eval.history['loss'], label='Training Loss');\n",
    "plt.plot(model_eval.history['val_loss'], label='Validation Loss');\n",
    "plt.title('Loss Plot');\n",
    "plt.legend();"
   ]
  },
  {
   "cell_type": "code",
   "execution_count": 58,
   "id": "7db34757",
   "metadata": {},
   "outputs": [
    {
     "name": "stdout",
     "output_type": "stream",
     "text": [
      "3125/3125 [==============================] - 2s 681us/step\n"
     ]
    }
   ],
   "source": [
    "y_pred_all = model.predict(input_scaled)"
   ]
  },
  {
   "cell_type": "code",
   "execution_count": 59,
   "id": "132cd592",
   "metadata": {},
   "outputs": [],
   "source": [
    "y_labels_all = np.argmax(y_pred_all, axis=-1)"
   ]
  },
  {
   "cell_type": "code",
   "execution_count": 91,
   "id": "66577d50",
   "metadata": {},
   "outputs": [],
   "source": [
    "false_indices_sal_sine = []\n",
    "for i in range(len(y_labels_all)):\n",
    "    if y_labels_all[i] != output_data[i]:\n",
    "        false_indices_sal_sine.append(i)"
   ]
  },
  {
   "cell_type": "code",
   "execution_count": 143,
   "id": "0ca412b6",
   "metadata": {},
   "outputs": [],
   "source": [
    "qplot = np.load('data/q_sal_sine.npy')"
   ]
  },
  {
   "cell_type": "code",
   "execution_count": 93,
   "id": "dee17e8e",
   "metadata": {},
   "outputs": [
    {
     "data": {
      "image/png": "[encoded data removed]",
      "text/plain": [
       "<Figure size 432x288 with 1 Axes>"
      ]
     },
     "metadata": {
      "needs_background": "light"
     },
     "output_type": "display_data"
    }
   ],
   "source": [
    "plt.plot(input_data[:, 0], qplot/Sv);\n",
    "plt.plot(input_data[:, 0], input_data[:, 0]*0,'k--');\n",
    "plt.xlabel('t (time in kiloyears)');\n",
    "plt.ylabel('$q$');\n",
    "plt.title('Incorrect Predictions for AMOC');\n",
    "plt.scatter([input_data[:, 0][i]for i in false_indices_sal_sine], [qplot[i]/Sv for i in false_indices_sal_sine], marker='x', c='red');"
   ]
  },
  {
   "cell_type": "code",
   "execution_count": 144,
   "id": "1e0fccc5",
   "metadata": {},
   "outputs": [
    {
     "name": "stdout",
     "output_type": "stream",
     "text": [
      "0\n",
      "1\n",
      "Epoch 9: early stopping\n",
      "2\n",
      "3\n",
      "4\n",
      "5\n",
      "6\n",
      "7\n",
      "8\n",
      "9\n"
     ]
    }
   ],
   "source": [
    "# training the ensemble \n",
    "for i in range(10):\n",
    "    print(i)\n",
    "    model = Sequential()\n",
    "    model.add(Dense(12, input_dim=4, activation='relu'))\n",
    "    model.add(Dense(6, activation='relu'))\n",
    "    model.add(Dense(3, activation='relu'))\n",
    "    model.add(Dense(2, activation='softmax'))\n",
    "    model.compile(loss='binary_crossentropy', optimizer='adam', metrics=['accuracy'])\n",
    "    es = keras.callbacks.EarlyStopping(monitor='val_loss', mode='min', verbose=1, patience=5)\n",
    "    history = model.fit(X_train_scaled, Y_train,\n",
    "                    batch_size=8,\n",
    "                    epochs=10,\n",
    "                    verbose=0,\n",
    "                    validation_data=(X_val_scaled, Y_val),\n",
    "                    callbacks=[es])#,\n",
    "    os.makedirs(\"models\", exist_ok=True)\n",
    "    model.save('models/stommel_model_sine_'+str(i)+'.h5')"
   ]
  },
  {
   "cell_type": "code",
   "execution_count": 145,
   "id": "6fecd06b",
   "metadata": {},
   "outputs": [
    {
     "data": {
      "image/png": "[encoded data removed]",
      "text/plain": [
       "<Figure size 432x288 with 1 Axes>"
      ]
     },
     "metadata": {
      "needs_background": "light"
     },
     "output_type": "display_data"
    }
   ],
   "source": [
    "plt.plot(history.history['loss'], label='Training Loss');\n",
    "plt.plot(history.history['val_loss'], label='Validation Loss');\n",
    "plt.title('Loss Plot for Ensemble')\n",
    "plt.legend();"
   ]
  },
  {
   "cell_type": "code",
   "execution_count": 146,
   "id": "e47c9149",
   "metadata": {},
   "outputs": [
    {
     "name": "stdout",
     "output_type": "stream",
     "text": [
      "0\n",
      "313/313 [==============================] - 0s 747us/step - loss: 0.0012 - accuracy: 0.9992\n",
      "Test loss: 0.0012007567565888166\n",
      "Test accuracy: 0.9991999864578247\n",
      "1\n",
      "313/313 [==============================] - 0s 830us/step - loss: 0.0015 - accuracy: 0.9994\n",
      "Test loss: 0.001528840628452599\n",
      "Test accuracy: 0.9994000196456909\n",
      "2\n",
      "313/313 [==============================] - 0s 746us/step - loss: 9.2933e-04 - accuracy: 0.9997\n",
      "Test loss: 0.0009293275070376694\n",
      "Test accuracy: 0.9997000098228455\n",
      "3\n",
      "313/313 [==============================] - 0s 814us/step - loss: 0.0016 - accuracy: 0.9991\n",
      "Test loss: 0.0016203389968723059\n",
      "Test accuracy: 0.9991000294685364\n",
      "4\n",
      "313/313 [==============================] - 0s 766us/step - loss: 8.6701e-04 - accuracy: 0.9995\n",
      "Test loss: 0.0008670133538544178\n",
      "Test accuracy: 0.9994999766349792\n",
      "5\n",
      "313/313 [==============================] - 0s 735us/step - loss: 0.0011 - accuracy: 0.9995\n",
      "Test loss: 0.0011291761184111238\n",
      "Test accuracy: 0.9994999766349792\n",
      "6\n",
      "313/313 [==============================] - 0s 796us/step - loss: 8.1726e-04 - accuracy: 0.9996\n",
      "Test loss: 0.0008172631496563554\n",
      "Test accuracy: 0.9995999932289124\n",
      "7\n",
      "313/313 [==============================] - 0s 748us/step - loss: 0.0017 - accuracy: 0.9995\n",
      "Test loss: 0.0016969394637271762\n",
      "Test accuracy: 0.9994999766349792\n",
      "8\n",
      "313/313 [==============================] - 1s 1ms/step - loss: 0.0012 - accuracy: 0.9993\n",
      "Test loss: 0.0012037261622026563\n",
      "Test accuracy: 0.9993000030517578\n",
      "9\n",
      "313/313 [==============================] - 1s 1ms/step - loss: 0.0012 - accuracy: 0.9994\n",
      "Test loss: 0.001206842134706676\n",
      "Test accuracy: 0.9994000196456909\n"
     ]
    }
   ],
   "source": [
    "for i in range(10):\n",
    "    print(i)\n",
    "    model = Sequential()\n",
    "    model.add(Dense(12, input_dim=4, activation='relu'))\n",
    "    model.add(Dense(6, activation='relu'))\n",
    "    model.add(Dense(3, activation='relu'))\n",
    "    model.add(Dense(2, activation='softmax'))\n",
    "    model.load_weights('models/stommel_model_sine_'+str(i)+'.h5')\n",
    "    model.compile(loss='binary_crossentropy', optimizer='adam', metrics=['accuracy'])\n",
    "    loss, accuracy= model.evaluate(X_test_scaled, Y_test)\n",
    "    print(f'Test loss: {loss}')\n",
    "    print(f'Test accuracy: {accuracy}')"
   ]
  },
  {
   "cell_type": "code",
   "execution_count": 147,
   "id": "f656b4db",
   "metadata": {},
   "outputs": [
    {
     "name": "stdout",
     "output_type": "stream",
     "text": [
      "0\n",
      "3125/3125 [==============================] - 2s 581us/step\n",
      "1\n",
      "3125/3125 [==============================] - 2s 584us/step\n",
      "2\n",
      "3125/3125 [==============================] - 2s 639us/step\n",
      "3\n",
      "3125/3125 [==============================] - 2s 595us/step\n",
      "4\n",
      "3125/3125 [==============================] - 2s 696us/step\n",
      "5\n",
      "3125/3125 [==============================] - 2s 615us/step\n",
      "6\n",
      "3125/3125 [==============================] - 2s 658us/step\n",
      "7\n",
      "3125/3125 [==============================] - 2s 657us/step\n",
      "8\n",
      "3125/3125 [==============================] - 2s 665us/step\n",
      "9\n",
      "3125/3125 [==============================] - 2s 674us/step\n"
     ]
    }
   ],
   "source": [
    "datapredicted_results_ensemble = np.nan * np.zeros((10, input_scaled.shape[0], 2))\n",
    "\n",
    "for i in range(10):\n",
    "    print(i)\n",
    "    model = Sequential()\n",
    "    model.add(Dense(12, input_dim=4, activation='relu'))\n",
    "    model.add(Dense(6, activation='relu'))\n",
    "    model.add(Dense(3, activation='relu'))\n",
    "    model.add(Dense(2, activation='softmax'))\n",
    "    model.load_weights('models/stommel_model_sine_'+str(i)+'.h5')\n",
    "    datapredicted = model.predict(input_scaled)\n",
    "    datapredicted_results_ensemble[i,...] = datapredicted"
   ]
  },
  {
   "cell_type": "code",
   "execution_count": 148,
   "id": "8c09726d",
   "metadata": {},
   "outputs": [],
   "source": [
    "y_pred_ensemble = np.mean(datapredicted_results_ensemble, 0).argmax(axis=-1)"
   ]
  },
  {
   "cell_type": "code",
   "execution_count": 149,
   "id": "9fd3a4e2",
   "metadata": {},
   "outputs": [],
   "source": [
    "false_indices_sine_ensemble = []"
   ]
  },
  {
   "cell_type": "code",
   "execution_count": 150,
   "id": "2f298a2e",
   "metadata": {},
   "outputs": [],
   "source": [
    "for i in range(len(y_pred_ensemble)):\n",
    "    if y_pred_ensemble[i] != output_data[i]:\n",
    "        false_indices_sine_ensemble.append(i)"
   ]
  },
  {
   "cell_type": "code",
   "execution_count": 151,
   "id": "8b289e71",
   "metadata": {},
   "outputs": [
    {
     "data": {
      "image/png": "[encoded data removed]",
      "text/plain": [
       "<Figure size 432x288 with 1 Axes>"
      ]
     },
     "metadata": {
      "needs_background": "light"
     },
     "output_type": "display_data"
    }
   ],
   "source": [
    "plt.plot(input_data[:, 0], qplot/Sv);\n",
    "plt.plot(input_data[:, 0], input_data[:, 0]*0,'k--');\n",
    "plt.xlabel('t (time in kiloyears)');\n",
    "plt.ylabel('$q$');\n",
    "plt.title('Incorrect Predictions for AMOC (Ensemble)');\n",
    "plt.scatter([input_data[:, 0][i] for i in false_indices_sine_ensemble], [qplot[i]/Sv for i in false_indices_sine_ensemble], marker='x', c='red');"
   ]
  },
  {
   "cell_type": "code",
   "execution_count": null,
   "id": "5ea6e912",
   "metadata": {},
   "outputs": [],
   "source": []
  }
 ],
 "metadata": {
  "kernelspec": {
   "display_name": "Python 3",
   "language": "python",
   "name": "python3"
  },
  "language_info": {
   "codemirror_mode": {
    "name": "ipython",
    "version": 3
   },
   "file_extension": ".py",
   "mimetype": "text/x-python",
   "name": "python",
   "nbconvert_exporter": "python",
   "pygments_lexer": "ipython3",
   "version": "3.8.8"
  }
 },
 "nbformat": 4,
 "nbformat_minor": 5
}
