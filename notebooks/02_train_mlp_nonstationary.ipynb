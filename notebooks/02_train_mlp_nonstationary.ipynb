{
 "cells": [
  {
   "cell_type": "code",
   "execution_count": 1,
   "id": "085893e3",
   "metadata": {},
   "outputs": [],
   "source": [
    "import keras\n",
    "import numpy as np\n",
    "from keras.models import Sequential, Model\n",
    "from keras.layers import Dense, Reshape, Flatten, Input, Dropout\n",
    "from keras.optimizers import Adam, SGD, RMSprop\n",
    "from sklearn.preprocessing import normalize\n",
    "from sklearn.model_selection import train_test_split\n",
    "from sklearn.preprocessing import StandardScaler\n",
    "import matplotlib.pyplot as plt\n",
    "import os"
   ]
  },
  {
   "cell_type": "markdown",
   "id": "2ab687c9",
   "metadata": {},
   "source": [
    "**NONSTATIONARY**"
   ]
  },
  {
   "cell_type": "code",
   "execution_count": 2,
   "id": "cbff456c",
   "metadata": {},
   "outputs": [],
   "source": [
    "# nonstationary data \n",
    "input_data = np.load('data/input_sal_temp_ns.npy')\n",
    "output_data = np.load('data/output_sal_temp_ns.npy')"
   ]
  },
  {
   "cell_type": "code",
   "execution_count": 3,
   "id": "b975f9e1",
   "metadata": {},
   "outputs": [],
   "source": [
    "Sv=1e9"
   ]
  },
  {
   "cell_type": "code",
   "execution_count": 4,
   "id": "9bbcc4b3",
   "metadata": {},
   "outputs": [],
   "source": [
    "X_train = input_data[0:60000]\n",
    "y_train = output_data[0:60000]\n",
    "X_val = input_data[60000:80000]\n",
    "y_val = output_data[60000:80000]\n",
    "X_test = input_data[80000:100000]\n",
    "y_test = output_data[80000:100000] "
   ]
  },
  {
   "cell_type": "code",
   "execution_count": 5,
   "id": "468bda48",
   "metadata": {},
   "outputs": [],
   "source": [
    "scaler = StandardScaler()\n",
    "scaler.fit(X_train)\n",
    "scaler.mean_,scaler.scale_\n",
    "\n",
    "X_train_scaled = scaler.transform(X_train)\n",
    "X_val_scaled = scaler.transform(X_val)\n",
    "X_test_scaled = scaler.transform(X_test)\n",
    "input_scaled = scaler.transform(input_data)\n",
    "\n",
    "Y_train = keras.utils.to_categorical(y_train)\n",
    "Y_val = keras.utils.to_categorical(y_val)\n",
    "Y_test = keras.utils.to_categorical(y_test)"
   ]
  },
  {
   "cell_type": "code",
   "execution_count": 6,
   "id": "a238ea78",
   "metadata": {},
   "outputs": [],
   "source": [
    "# defining the MLP\n",
    "model = Sequential()\n",
    "model.add(Dense(12, input_dim=5, activation='relu'))\n",
    "model.add(Dense(6, activation='relu'))\n",
    "model.add(Dense(3, activation='relu'))\n",
    "model.add(Dense(1, activation='sigmoid'))\n",
    "model.compile(loss='binary_crossentropy', optimizer='adam', metrics=['accuracy'])"
   ]
  },
  {
   "cell_type": "code",
   "execution_count": 7,
   "id": "b94e4543",
   "metadata": {},
   "outputs": [
    {
     "name": "stdout",
     "output_type": "stream",
     "text": [
      "Epoch 1/10\n",
      "1875/1875 [==============================] - 3s 1ms/step - loss: 0.2515 - accuracy: 0.9707 - val_loss: 0.1312 - val_accuracy: 0.9996\n",
      "Epoch 2/10\n",
      "1875/1875 [==============================] - 2s 1ms/step - loss: 0.0697 - accuracy: 0.9995 - val_loss: 0.0500 - val_accuracy: 0.9987\n",
      "Epoch 3/10\n",
      "1875/1875 [==============================] - 2s 1ms/step - loss: 0.0278 - accuracy: 0.9998 - val_loss: 0.0220 - val_accuracy: 0.9990\n",
      "Epoch 4/10\n",
      "1875/1875 [==============================] - 2s 1ms/step - loss: 0.0123 - accuracy: 0.9998 - val_loss: 0.0115 - val_accuracy: 0.9990\n",
      "Epoch 5/10\n",
      "1875/1875 [==============================] - 2s 1ms/step - loss: 0.0058 - accuracy: 0.9998 - val_loss: 0.0048 - val_accuracy: 0.9996\n",
      "Epoch 6/10\n",
      "1875/1875 [==============================] - 3s 1ms/step - loss: 0.0029 - accuracy: 0.9998 - val_loss: 0.0028 - val_accuracy: 0.9996\n",
      "Epoch 7/10\n",
      "1875/1875 [==============================] - 2s 1ms/step - loss: 0.0015 - accuracy: 0.9999 - val_loss: 0.0032 - val_accuracy: 0.9994\n",
      "Epoch 8/10\n",
      "1875/1875 [==============================] - 2s 1ms/step - loss: 9.7466e-04 - accuracy: 0.9999 - val_loss: 0.0036 - val_accuracy: 0.9992\n",
      "Epoch 9/10\n",
      "1875/1875 [==============================] - 2s 1ms/step - loss: 6.7575e-04 - accuracy: 0.9999 - val_loss: 9.0177e-04 - val_accuracy: 0.9998\n",
      "Epoch 10/10\n",
      "1875/1875 [==============================] - 2s 1ms/step - loss: 5.7719e-04 - accuracy: 0.9999 - val_loss: 0.0027 - val_accuracy: 0.9994\n"
     ]
    }
   ],
   "source": [
    "# Train the model on the training set and validate on the validation set\n",
    "model_eval = model.fit(X_train_scaled, y_train, epochs=10, batch_size=32, validation_data=(X_val_scaled, y_val))"
   ]
  },
  {
   "cell_type": "code",
   "execution_count": 8,
   "id": "0cbb1feb",
   "metadata": {},
   "outputs": [
    {
     "name": "stdout",
     "output_type": "stream",
     "text": [
      "625/625 [==============================] - 0s 710us/step - loss: 0.0015 - accuracy: 0.9996\n",
      "Test loss: 0.0014803000958636403\n",
      "Test accuracy: 0.9995999932289124\n"
     ]
    }
   ],
   "source": [
    "loss, accuracy = model.evaluate(X_test_scaled, y_test)\n",
    "print(f'Test loss: {loss}')\n",
    "print(f'Test accuracy: {accuracy}')"
   ]
  },
  {
   "cell_type": "code",
   "execution_count": 9,
   "id": "fa186d48",
   "metadata": {},
   "outputs": [
    {
     "data": {
      "image/png": "[encoded data removed]",
      "text/plain": [
       "<Figure size 432x288 with 1 Axes>"
      ]
     },
     "metadata": {
      "needs_background": "light"
     },
     "output_type": "display_data"
    }
   ],
   "source": [
    "plt.plot(model_eval.history['loss'], label='Training Loss');\n",
    "plt.plot(model_eval.history['val_loss'], label='Validation Loss');\n",
    "plt.title('Loss Plot');\n",
    "plt.legend();"
   ]
  },
  {
   "cell_type": "code",
   "execution_count": 10,
   "id": "eb3945ef",
   "metadata": {},
   "outputs": [
    {
     "name": "stdout",
     "output_type": "stream",
     "text": [
      "3125/3125 [==============================] - 2s 636us/step\n"
     ]
    }
   ],
   "source": [
    "y_pred_all = model.predict(input_scaled)"
   ]
  },
  {
   "cell_type": "code",
   "execution_count": 11,
   "id": "ef41d139",
   "metadata": {},
   "outputs": [
    {
     "name": "stdout",
     "output_type": "stream",
     "text": [
      "3125/3125 [==============================] - 2s 652us/step\n"
     ]
    }
   ],
   "source": [
    "threshold = 0.5\n",
    "predictions = (model.predict(input_scaled) > threshold).astype(int)  # Convert probabilities to 0 or 1"
   ]
  },
  {
   "cell_type": "code",
   "execution_count": 13,
   "id": "d326c0b0",
   "metadata": {},
   "outputs": [],
   "source": [
    "false_indices_sal_temp_sine = []\n",
    "for i in range(len(predictions)):\n",
    "    if predictions[i] != output_data[i]:\n",
    "        false_indices_sal_temp_sine.append(i)"
   ]
  },
  {
   "cell_type": "code",
   "execution_count": 9,
   "id": "b1bf7617",
   "metadata": {},
   "outputs": [],
   "source": [
    "qplot = np.load('data/q_sal_temp_ns.npy')"
   ]
  },
  {
   "cell_type": "code",
   "execution_count": 15,
   "id": "aed9a348",
   "metadata": {},
   "outputs": [
    {
     "data": {
      "image/png": "[encoded data removed]",
      "text/plain": [
       "<Figure size 432x288 with 1 Axes>"
      ]
     },
     "metadata": {
      "needs_background": "light"
     },
     "output_type": "display_data"
    }
   ],
   "source": [
    "plt.plot(input_data[:, 0], qplot/Sv);\n",
    "plt.plot(input_data[:, 0], input_data[:, 0]*0,'k--');\n",
    "plt.xlabel('t (time in kiloyears)');\n",
    "plt.ylabel('$q$');\n",
    "plt.title('Incorrect Predictions for AMOC');\n",
    "plt.scatter([input_data[:, 0][i] for i in false_indices_sal_temp_sine], [qplot[i]/Sv for i in false_indices_sal_temp_sine], marker='x', c='red');"
   ]
  },
  {
   "cell_type": "code",
   "execution_count": 16,
   "id": "15083c9c",
   "metadata": {},
   "outputs": [],
   "source": [
    "training_losses = np.zeros(10, dtype=np.ndarray)\n",
    "validation_losses = np.zeros(10, dtype=np.ndarray)"
   ]
  },
  {
   "cell_type": "code",
   "execution_count": 17,
   "id": "4a947d63",
   "metadata": {},
   "outputs": [
    {
     "name": "stdout",
     "output_type": "stream",
     "text": [
      "0\n",
      "1\n",
      "2\n",
      "3\n",
      "Epoch 7: early stopping\n",
      "4\n",
      "5\n",
      "6\n",
      "7\n",
      "Epoch 8: early stopping\n",
      "8\n",
      "9\n"
     ]
    }
   ],
   "source": [
    "# training the ensemble \n",
    "for i in range(10):\n",
    "    print(i)\n",
    "    model = Sequential()\n",
    "    model.add(Dense(12, input_dim=5, activation='relu'))\n",
    "    model.add(Dense(6, activation='relu'))\n",
    "    model.add(Dense(3, activation='relu'))\n",
    "    model.add(Dense(1, activation='sigmoid'))\n",
    "    model.compile(loss='binary_crossentropy', optimizer='adam', metrics=['accuracy'])\n",
    "    es = keras.callbacks.EarlyStopping(monitor='val_loss', mode='min', verbose=1, patience=5)\n",
    "    model_eval = model.fit(X_train_scaled, y_train,\n",
    "                    batch_size=8,\n",
    "                    epochs=10,\n",
    "                    verbose=0,\n",
    "                    validation_data=(X_val_scaled, y_val),\n",
    "                    callbacks=[es])#,\n",
    "    training_losses[i] = model_eval.history['loss']\n",
    "    validation_losses[i] = model_eval.history['val_loss']\n",
    "    os.makedirs(\"models_mlp_ns\", exist_ok=True)\n",
    "    model.save('models_mlp_ns/ensemble_member_'+str(i)+'.keras')"
   ]
  },
  {
   "cell_type": "code",
   "execution_count": 18,
   "id": "99b7b333",
   "metadata": {},
   "outputs": [
    {
     "data": {
      "image/png": "[encoded data removed]",
      "text/plain": [
       "<Figure size 720x720 with 12 Axes>"
      ]
     },
     "metadata": {
      "needs_background": "light"
     },
     "output_type": "display_data"
    }
   ],
   "source": [
    "fig, ax = plt.subplots(4, 3, sharex = True, sharey = True, figsize = (10, 10));\n",
    "fig.supxlabel('Epoch');\n",
    "fig.supylabel('Loss');\n",
    "fig.suptitle('Training and Validation Loss for Ensemble Members');\n",
    "ax = ax.flatten();\n",
    "for j in range(10, 12):  # 2 extra subplots in the 4x3 grid\n",
    "    ax[j].axis('off');"
   ]
  },
  {
   "cell_type": "code",
   "execution_count": 19,
   "id": "dd0892bf",
   "metadata": {},
   "outputs": [],
   "source": [
    "for i in range(10):\n",
    "    ax[i].plot(training_losses[i], label='Training Loss')\n",
    "    ax[i].plot(validation_losses[i], label='Validation Loss')\n",
    "    ax[i].set_title('Ensemble Member #' + str(i))"
   ]
  },
  {
   "cell_type": "code",
   "execution_count": 20,
   "id": "9fcbed27",
   "metadata": {},
   "outputs": [
    {
     "data": {
      "text/plain": [
       "<matplotlib.legend.Legend at 0x7faa5e62baf0>"
      ]
     },
     "execution_count": 20,
     "metadata": {},
     "output_type": "execute_result"
    }
   ],
   "source": [
    "fig.legend(\n",
    "    labels=['Training Loss', 'Validation Loss'],\n",
    "    loc='lower right',\n",
    "    bbox_to_anchor=(0.9, 0.2)  # fine-tune if needed\n",
    ")"
   ]
  },
  {
   "cell_type": "code",
   "execution_count": 21,
   "id": "2814af8c",
   "metadata": {},
   "outputs": [],
   "source": [
    "fig.savefig('figures/mlp_losses_nonstationary', dpi=100)"
   ]
  },
  {
   "cell_type": "code",
   "execution_count": 22,
   "id": "e4e5c9b4",
   "metadata": {},
   "outputs": [],
   "source": [
    "accuracies = []"
   ]
  },
  {
   "cell_type": "code",
   "execution_count": 23,
   "id": "6332808a",
   "metadata": {},
   "outputs": [
    {
     "name": "stdout",
     "output_type": "stream",
     "text": [
      "0\n",
      "625/625 [==============================] - 1s 761us/step - loss: 0.0041 - accuracy: 0.9995\n",
      "Test loss: 0.004051839467138052\n",
      "Test accuracy: 0.9994999766349792\n",
      "1\n",
      "625/625 [==============================] - 1s 795us/step - loss: 8.4397e-04 - accuracy: 0.9998\n",
      "Test loss: 0.0008439739467576146\n",
      "Test accuracy: 0.999750018119812\n",
      "2\n",
      "625/625 [==============================] - 1s 862us/step - loss: 0.0016 - accuracy: 0.9996\n",
      "Test loss: 0.0015750270104035735\n",
      "Test accuracy: 0.9995999932289124\n",
      "3\n",
      "625/625 [==============================] - 1s 867us/step - loss: 0.0014 - accuracy: 0.9997\n",
      "Test loss: 0.001365224365144968\n",
      "Test accuracy: 0.9996500015258789\n",
      "4\n",
      "625/625 [==============================] - 1s 822us/step - loss: 0.0011 - accuracy: 0.9996\n",
      "Test loss: 0.0010591703467071056\n",
      "Test accuracy: 0.9995999932289124\n",
      "5\n",
      "625/625 [==============================] - 1s 849us/step - loss: 0.0027 - accuracy: 0.9995\n",
      "Test loss: 0.0027081556618213654\n",
      "Test accuracy: 0.9995499849319458\n",
      "6\n",
      "625/625 [==============================] - 1s 1ms/step - loss: 7.4174e-04 - accuracy: 0.9998\n",
      "Test loss: 0.000741737661883235\n",
      "Test accuracy: 0.999750018119812\n",
      "7\n",
      "625/625 [==============================] - 1s 1ms/step - loss: 0.0035 - accuracy: 0.9995\n",
      "Test loss: 0.003497297177091241\n",
      "Test accuracy: 0.9994500279426575\n",
      "8\n",
      "625/625 [==============================] - 1s 1ms/step - loss: 0.0017 - accuracy: 0.9997\n",
      "Test loss: 0.001665112329646945\n",
      "Test accuracy: 0.9996500015258789\n",
      "9\n",
      "625/625 [==============================] - 1s 806us/step - loss: 0.0017 - accuracy: 0.9995\n",
      "Test loss: 0.0017082588747143745\n",
      "Test accuracy: 0.9994999766349792\n"
     ]
    }
   ],
   "source": [
    "for i in range(10):\n",
    "    print(i)\n",
    "    model = Sequential()\n",
    "    model.add(Dense(12, input_dim=5, activation='relu'))\n",
    "    model.add(Dense(6, activation='relu'))\n",
    "    model.add(Dense(3, activation='relu'))\n",
    "    model.add(Dense(1, activation='sigmoid'))\n",
    "    model.load_weights('models_mlp_ns/ensemble_member_'+str(i)+'.keras')\n",
    "    model.compile(loss='binary_crossentropy', optimizer='adam', metrics=['accuracy'])\n",
    "    loss, accuracy= model.evaluate(X_test_scaled, y_test)\n",
    "    accuracies.append(accuracy)\n",
    "    print(f'Test loss: {loss}')\n",
    "    print(f'Test accuracy: {accuracy}')"
   ]
  },
  {
   "cell_type": "code",
   "execution_count": 24,
   "id": "5539b695",
   "metadata": {},
   "outputs": [
    {
     "data": {
      "text/plain": [
       "99.95999991893768"
      ]
     },
     "execution_count": 24,
     "metadata": {},
     "output_type": "execute_result"
    }
   ],
   "source": [
    "sum(accuracies)/10*100"
   ]
  },
  {
   "cell_type": "code",
   "execution_count": 7,
   "id": "f620b3d3",
   "metadata": {},
   "outputs": [
    {
     "name": "stdout",
     "output_type": "stream",
     "text": [
      "0\n",
      "3125/3125 [==============================] - 2s 664us/step\n",
      "1\n",
      "3125/3125 [==============================] - 2s 585us/step\n",
      "2\n",
      "3125/3125 [==============================] - 2s 645us/step\n",
      "3\n",
      "3125/3125 [==============================] - 2s 632us/step\n",
      "4\n",
      "3125/3125 [==============================] - 2s 658us/step\n",
      "5\n",
      "3125/3125 [==============================] - 2s 657us/step\n",
      "6\n",
      "3125/3125 [==============================] - 2s 658us/step\n",
      "7\n",
      "3125/3125 [==============================] - 2s 704us/step\n",
      "8\n",
      "3125/3125 [==============================] - 2s 624us/step\n",
      "9\n",
      "3125/3125 [==============================] - 2s 603us/step\n"
     ]
    }
   ],
   "source": [
    "predicted_results_ensemble = np.nan * np.zeros((10, input_scaled.shape[0], 1))\n",
    "\n",
    "for i in range(10):\n",
    "    print(i)\n",
    "    model = Sequential()\n",
    "    model.add(Dense(12, input_dim=5, activation='relu'))\n",
    "    model.add(Dense(6, activation='relu'))\n",
    "    model.add(Dense(3, activation='relu'))\n",
    "    model.add(Dense(1, activation='sigmoid'))\n",
    "    model.load_weights('models_mlp_ns/ensemble_member_'+str(i)+'.keras')\n",
    "    predicted = model.predict(input_scaled)\n",
    "    predicted_results_ensemble[i,...] = predicted"
   ]
  },
  {
   "cell_type": "code",
   "execution_count": 11,
   "id": "6c6fe5fa",
   "metadata": {},
   "outputs": [
    {
     "data": {
      "image/png": "[encoded data removed]",
      "text/plain": [
       "<Figure size 432x288 with 1 Axes>"
      ]
     },
     "metadata": {
      "needs_background": "light"
     },
     "output_type": "display_data"
    }
   ],
   "source": [
    "avg_predicted = np.mean(predicted_results_ensemble, axis=0).reshape(100000)\n",
    "threshold = 0.5\n",
    "avg_pred = (avg_predicted > threshold).astype(int)\n",
    "false_indices = []\n",
    "for j in range(len(avg_pred)):\n",
    "    if avg_pred[j] != output_data[j]:\n",
    "        false_indices.append(j)\n",
    "fig, ax = plt.subplots()\n",
    "ax.plot(input_data[:, 0], qplot/Sv);\n",
    "ax.plot(input_data[:, 0], input_data[:, 0]*0,'k--');\n",
    "ax.set_title('Incorrect Predictions by MLP Ensemble');\n",
    "ax.scatter([input_data[:, 0][k] for k in false_indices], [qplot[k]/Sv for k in false_indices], marker='x', c='red');\n",
    "ax.set_xlabel('Time (kyr)');\n",
    "ax.set_ylabel('Circulation (Sv)');\n",
    "fig.savefig('figures/mlp_predictions_ns_all', dpi=100)"
   ]
  },
  {
   "cell_type": "code",
   "execution_count": 26,
   "id": "e54eccd8",
   "metadata": {},
   "outputs": [
    {
     "data": {
      "image/png": "[encoded data removed]",
      "text/plain": [
       "<Figure size 720x720 with 12 Axes>"
      ]
     },
     "metadata": {
      "needs_background": "light"
     },
     "output_type": "display_data"
    }
   ],
   "source": [
    "fig, ax = plt.subplots(4, 3, sharex = True, sharey = True, figsize = (10, 10))\n",
    "fig.supxlabel('Time (kyr)')\n",
    "fig.supylabel('AMOC (Sv)')\n",
    "fig.suptitle('Incorrect Predictions by Ensemble Members')\n",
    "ax = ax.flatten()\n",
    "for j in range(10, 12):  # 2 extra subplots in the 4x3 grid\n",
    "    ax[j].axis('off')"
   ]
  },
  {
   "cell_type": "code",
   "execution_count": 27,
   "id": "091006ae",
   "metadata": {},
   "outputs": [],
   "source": [
    "for i in range(10):\n",
    "    ensemble_i_pred = (predicted_results_ensemble[i] > threshold).astype(int)\n",
    "    false_indices = []\n",
    "    for j in range(len(ensemble_i_pred)):\n",
    "        if ensemble_i_pred[j] != output_data[j]:\n",
    "            false_indices.append(j)\n",
    "    ax[i].plot(input_data[:, 0], qplot/Sv);\n",
    "    ax[i].plot(input_data[:, 0], input_data[:, 0]*0,'k--');\n",
    "    ax[i].set_title('Ensemble Member #' + str(i));\n",
    "    ax[i].scatter([input_data[:, 0][k] for k in false_indices], [qplot[k]/Sv for k in false_indices], marker='x', c='red');"
   ]
  },
  {
   "cell_type": "code",
   "execution_count": 28,
   "id": "a3e5beb7",
   "metadata": {},
   "outputs": [
    {
     "data": {
      "text/plain": [
       "<matplotlib.legend.Legend at 0x7faa5f133f70>"
      ]
     },
     "execution_count": 28,
     "metadata": {},
     "output_type": "execute_result"
    }
   ],
   "source": [
    "import matplotlib.lines as mlines\n",
    "red_x = mlines.Line2D([], [], color='red', marker='x', linestyle='None', label='Incorrect Prediction')\n",
    "\n",
    "# Global legend in lower right\n",
    "\n",
    "fig.legend(handles=[red_x], loc='lower right', bbox_to_anchor=(0.9, 0.2))"
   ]
  },
  {
   "cell_type": "code",
   "execution_count": 29,
   "id": "f4b2a9a0",
   "metadata": {},
   "outputs": [],
   "source": [
    "fig.savefig('figures/mlp_predictions_nonstationary', dpi=100)"
   ]
  }
 ],
 "metadata": {
  "kernelspec": {
   "display_name": "Python 3",
   "language": "python",
   "name": "python3"
  },
  "language_info": {
   "codemirror_mode": {
    "name": "ipython",
    "version": 3
   },
   "file_extension": ".py",
   "mimetype": "text/x-python",
   "name": "python",
   "nbconvert_exporter": "python",
   "pygments_lexer": "ipython3",
   "version": "3.8.8"
  }
 },
 "nbformat": 4,
 "nbformat_minor": 5
}
