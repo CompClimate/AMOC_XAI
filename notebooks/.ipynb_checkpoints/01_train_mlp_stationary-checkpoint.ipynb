{
 "cells": [
  {
   "cell_type": "code",
   "execution_count": 1,
   "id": "085893e3",
   "metadata": {},
   "outputs": [],
   "source": [
    "import keras\n",
    "import numpy as np\n",
    "from keras.models import Sequential, Model\n",
    "from keras.layers import Dense, Reshape, Flatten, Input, Dropout\n",
    "from keras.optimizers import Adam, SGD, RMSprop\n",
    "from sklearn.preprocessing import normalize\n",
    "from sklearn.model_selection import train_test_split\n",
    "from sklearn.preprocessing import StandardScaler\n",
    "import matplotlib.pyplot as plt\n",
    "import os"
   ]
  },
  {
   "cell_type": "markdown",
   "id": "c8fa4b3b",
   "metadata": {},
   "source": [
    "**STATIONARY**"
   ]
  },
  {
   "cell_type": "code",
   "execution_count": 5,
   "id": "cbff456c",
   "metadata": {},
   "outputs": [],
   "source": [
    "# stationary data \n",
    "input_data = np.load('data/input_sal_temp_sine.npy')\n",
    "output_data = np.load('data/output_sal_temp_sine.npy')"
   ]
  },
  {
   "cell_type": "code",
   "execution_count": 20,
   "id": "de945330",
   "metadata": {},
   "outputs": [],
   "source": [
    "Sv=1e9"
   ]
  },
  {
   "cell_type": "code",
   "execution_count": 22,
   "id": "28eab36f",
   "metadata": {},
   "outputs": [],
   "source": [
    "X_train = input_data[0:60000]\n",
    "y_train = output_data[0:60000]\n",
    "X_val = input_data[60000:80000]\n",
    "y_val = output_data[60000:80000]\n",
    "X_test = input_data[80000:100000]\n",
    "y_test = output_data[80000:100000] "
   ]
  },
  {
   "cell_type": "code",
   "execution_count": 23,
   "id": "bef81de5",
   "metadata": {},
   "outputs": [],
   "source": [
    "scaler = StandardScaler()\n",
    "scaler.fit(X_train)\n",
    "scaler.mean_,scaler.scale_\n",
    "\n",
    "X_train_scaled = scaler.transform(X_train)\n",
    "X_val_scaled = scaler.transform(X_val)\n",
    "X_test_scaled = scaler.transform(X_test)\n",
    "input_scaled = scaler.transform(input_data)\n",
    "\n",
    "# Y_train = keras.utils.to_categorical(y_train)\n",
    "# Y_val = keras.utils.to_categorical(y_val)\n",
    "# Y_test = keras.utils.to_categorical(y_test)"
   ]
  },
  {
   "cell_type": "code",
   "execution_count": 24,
   "id": "b8b2bdf4",
   "metadata": {},
   "outputs": [],
   "source": [
    "# defining the MLP\n",
    "model = Sequential()\n",
    "model.add(Dense(12, input_dim=5, activation='relu'))\n",
    "model.add(Dense(6, activation='relu'))\n",
    "model.add(Dense(3, activation='relu'))\n",
    "model.add(Dense(1, activation='sigmoid'))\n",
    "model.compile(loss='binary_crossentropy', optimizer='adam', metrics=['accuracy'])"
   ]
  },
  {
   "cell_type": "code",
   "execution_count": 25,
   "id": "3f67012b",
   "metadata": {},
   "outputs": [
    {
     "name": "stdout",
     "output_type": "stream",
     "text": [
      "Epoch 1/10\n",
      "1875/1875 [==============================] - 3s 1ms/step - loss: 0.2285 - accuracy: 0.9430 - val_loss: 0.0722 - val_accuracy: 0.9985\n",
      "Epoch 2/10\n",
      "1875/1875 [==============================] - 2s 1ms/step - loss: 0.0585 - accuracy: 0.9997 - val_loss: 0.0296 - val_accuracy: 0.9979\n",
      "Epoch 3/10\n",
      "1875/1875 [==============================] - 2s 1ms/step - loss: 0.0233 - accuracy: 0.9997 - val_loss: 0.0134 - val_accuracy: 0.9987\n",
      "Epoch 4/10\n",
      "1875/1875 [==============================] - 2s 1ms/step - loss: 0.0104 - accuracy: 0.9998 - val_loss: 0.0060 - val_accuracy: 0.9994\n",
      "Epoch 5/10\n",
      "1875/1875 [==============================] - 2s 1ms/step - loss: 0.0049 - accuracy: 0.9998 - val_loss: 0.0040 - val_accuracy: 0.9991\n",
      "Epoch 6/10\n",
      "1875/1875 [==============================] - 2s 1ms/step - loss: 0.0025 - accuracy: 0.9999 - val_loss: 0.0063 - val_accuracy: 0.9984\n",
      "Epoch 7/10\n",
      "1875/1875 [==============================] - 2s 1ms/step - loss: 0.0014 - accuracy: 0.9999 - val_loss: 0.0050 - val_accuracy: 0.9986\n",
      "Epoch 8/10\n",
      "1875/1875 [==============================] - 2s 1ms/step - loss: 9.7173e-04 - accuracy: 0.9998 - val_loss: 0.0047 - val_accuracy: 0.9987\n",
      "Epoch 9/10\n",
      "1875/1875 [==============================] - 2s 1ms/step - loss: 7.5049e-04 - accuracy: 0.9999 - val_loss: 9.4860e-04 - val_accuracy: 0.9996\n",
      "Epoch 10/10\n",
      "1875/1875 [==============================] - 2s 1ms/step - loss: 6.2469e-04 - accuracy: 0.9998 - val_loss: 0.0011 - val_accuracy: 0.9995\n"
     ]
    }
   ],
   "source": [
    "# Train the model on the training set and validate on the validation set\n",
    "model_eval = model.fit(X_train_scaled, y_train, epochs=10, batch_size=32, validation_data=(X_val_scaled, y_val))"
   ]
  },
  {
   "cell_type": "code",
   "execution_count": 26,
   "id": "6fef6ea7",
   "metadata": {},
   "outputs": [
    {
     "name": "stdout",
     "output_type": "stream",
     "text": [
      "625/625 [==============================] - 0s 701us/step - loss: 0.0029 - accuracy: 0.9992\n",
      "Test loss: 0.0029238194692879915\n",
      "Test accuracy: 0.9992499947547913\n"
     ]
    }
   ],
   "source": [
    "loss, accuracy = model.evaluate(X_test_scaled, y_test)\n",
    "print(f'Test loss: {loss}')\n",
    "print(f'Test accuracy: {accuracy}')"
   ]
  },
  {
   "cell_type": "code",
   "execution_count": 27,
   "id": "359aaf14",
   "metadata": {},
   "outputs": [
    {
     "data": {
      "image/png": "[encoded data removed]",
      "text/plain": [
       "<Figure size 432x288 with 1 Axes>"
      ]
     },
     "metadata": {
      "needs_background": "light"
     },
     "output_type": "display_data"
    }
   ],
   "source": [
    "plt.plot(model_eval.history['loss'], label='Training Loss');\n",
    "plt.plot(model_eval.history['val_loss'], label='Validation Loss');\n",
    "plt.title('Loss Plot');\n",
    "plt.legend();"
   ]
  },
  {
   "cell_type": "code",
   "execution_count": 28,
   "id": "95999eb3",
   "metadata": {},
   "outputs": [
    {
     "name": "stdout",
     "output_type": "stream",
     "text": [
      "3125/3125 [==============================] - 2s 643us/step\n"
     ]
    }
   ],
   "source": [
    "y_pred_all = model.predict(input_scaled)"
   ]
  },
  {
   "cell_type": "code",
   "execution_count": 29,
   "id": "81b918e1",
   "metadata": {},
   "outputs": [
    {
     "name": "stdout",
     "output_type": "stream",
     "text": [
      "3125/3125 [==============================] - 2s 721us/step\n"
     ]
    }
   ],
   "source": [
    "threshold = 0.5\n",
    "predictions = (model.predict(input_scaled) > threshold).astype(int)  # Convert probabilities to 0 or 1"
   ]
  },
  {
   "cell_type": "code",
   "execution_count": 121,
   "id": "ce26e054",
   "metadata": {},
   "outputs": [],
   "source": [
    "false_indices_sal_temp_sine = []\n",
    "for i in range(len(predictions)):\n",
    "    if predictions[i] != output_data[i]:\n",
    "        false_indices_sal_temp_sine.append(i)"
   ]
  },
  {
   "cell_type": "code",
   "execution_count": 123,
   "id": "49770117",
   "metadata": {},
   "outputs": [],
   "source": [
    "qplot = np.load('data/q_sal_temp_sine.npy')"
   ]
  },
  {
   "cell_type": "code",
   "execution_count": 124,
   "id": "ef4b463e",
   "metadata": {},
   "outputs": [
    {
     "data": {
      "image/png": "[encoded data removed]",
      "text/plain": [
       "<Figure size 432x288 with 1 Axes>"
      ]
     },
     "metadata": {
      "needs_background": "light"
     },
     "output_type": "display_data"
    }
   ],
   "source": [
    "plt.plot(input_data[:, 0], qplot/Sv);\n",
    "plt.plot(input_data[:, 0], input_data[:, 0]*0,'k--');\n",
    "plt.xlabel('t (time in kiloyears)');\n",
    "plt.ylabel('$q$');\n",
    "plt.title('Incorrect Predictions for AMOC');\n",
    "plt.scatter([input_data[:, 0][i] for i in false_indices_sal_temp_sine], [qplot[i]/Sv for i in false_indices_sal_temp_sine], marker='x', c='red');"
   ]
  },
  {
   "cell_type": "code",
   "execution_count": 37,
   "id": "53edac4c",
   "metadata": {},
   "outputs": [],
   "source": [
    "training_losses = np.zeros(10, dtype=np.ndarray)\n",
    "validation_losses = np.zeros(10, dtype=np.ndarray)"
   ]
  },
  {
   "cell_type": "code",
   "execution_count": 38,
   "id": "aa9e3e20",
   "metadata": {},
   "outputs": [
    {
     "name": "stdout",
     "output_type": "stream",
     "text": [
      "0\n",
      "1\n",
      "2\n",
      "3\n",
      "Epoch 6: early stopping\n",
      "4\n",
      "Epoch 9: early stopping\n",
      "5\n",
      "6\n",
      "7\n",
      "8\n",
      "9\n"
     ]
    }
   ],
   "source": [
    "# training the ensemble \n",
    "for i in range(10):\n",
    "    print(i)\n",
    "    model = Sequential()\n",
    "    model.add(Dense(12, input_dim=5, activation='relu'))\n",
    "    model.add(Dense(6, activation='relu'))\n",
    "    model.add(Dense(3, activation='relu'))\n",
    "    model.add(Dense(1, activation='sigmoid'))\n",
    "    model.compile(loss='binary_crossentropy', optimizer='adam', metrics=['accuracy'])\n",
    "    es = keras.callbacks.EarlyStopping(monitor='val_loss', mode='min', verbose=1, patience=5)\n",
    "    model_eval = model.fit(X_train_scaled, y_train,\n",
    "                    batch_size=8,\n",
    "                    epochs=10,\n",
    "                    verbose=0,\n",
    "                    validation_data=(X_val_scaled, y_val),\n",
    "                    callbacks=[es])#,\n",
    "    training_losses[i] = model_eval.history['loss']\n",
    "    validation_losses[i] = model_eval.history['val_loss']\n",
    "    os.makedirs(\"models_mlp_s\", exist_ok=True)\n",
    "    model.save('models_mlp_s/ensemble_member_'+str(i)+'.keras')"
   ]
  },
  {
   "cell_type": "code",
   "execution_count": 103,
   "id": "5ba329ee",
   "metadata": {},
   "outputs": [
    {
     "data": {
      "image/png": "[encoded data removed]",
      "text/plain": [
       "<Figure size 720x720 with 12 Axes>"
      ]
     },
     "metadata": {
      "needs_background": "light"
     },
     "output_type": "display_data"
    }
   ],
   "source": [
    "fig, ax = plt.subplots(4, 3, sharex = True, sharey = True, figsize = (10, 10));\n",
    "fig.supxlabel('Epoch');\n",
    "fig.supylabel('Loss');\n",
    "fig.suptitle('Training and Validation Loss for Ensemble Members');\n",
    "ax = ax.flatten();\n",
    "for j in range(10, 12):  # 2 extra subplots in the 4x3 grid\n",
    "    ax[j].axis('off');"
   ]
  },
  {
   "cell_type": "code",
   "execution_count": 104,
   "id": "e42b6fe2",
   "metadata": {},
   "outputs": [],
   "source": [
    "for i in range(10):\n",
    "    ax[i].plot(training_losses[i], label='Training Loss')\n",
    "    ax[i].plot(validation_losses[i], label='Validation Loss')\n",
    "    ax[i].set_title('Ensemble Member #' + str(i))"
   ]
  },
  {
   "cell_type": "code",
   "execution_count": 105,
   "id": "151d3058",
   "metadata": {},
   "outputs": [
    {
     "data": {
      "text/plain": [
       "<matplotlib.legend.Legend at 0x7fa54822c6a0>"
      ]
     },
     "execution_count": 105,
     "metadata": {},
     "output_type": "execute_result"
    }
   ],
   "source": [
    "fig.legend(\n",
    "    labels=['Training Loss', 'Validation Loss'],\n",
    "    loc='lower right',\n",
    "    bbox_to_anchor=(0.9, 0.2)  # fine-tune if needed\n",
    ")"
   ]
  },
  {
   "cell_type": "code",
   "execution_count": 106,
   "id": "ba87200c",
   "metadata": {},
   "outputs": [],
   "source": [
    "fig.savefig('figures/mlp_losses_stationary', dpi=100)"
   ]
  },
  {
   "cell_type": "code",
   "execution_count": 96,
   "id": "426621d1",
   "metadata": {},
   "outputs": [],
   "source": [
    "accuracies = []"
   ]
  },
  {
   "cell_type": "code",
   "execution_count": 97,
   "id": "bc7355fc",
   "metadata": {},
   "outputs": [
    {
     "name": "stdout",
     "output_type": "stream",
     "text": [
      "0\n",
      "625/625 [==============================] - 1s 722us/step - loss: 2.8481e-04 - accuracy: 0.9999\n",
      "Test loss: 0.00028480964829213917\n",
      "Test accuracy: 0.9999499917030334\n",
      "1\n",
      "625/625 [==============================] - 1s 739us/step - loss: 0.0044 - accuracy: 0.9987\n",
      "Test loss: 0.004433142952620983\n",
      "Test accuracy: 0.9987000226974487\n",
      "2\n",
      "625/625 [==============================] - 1s 817us/step - loss: 0.0014 - accuracy: 0.9995\n",
      "Test loss: 0.0014431087765842676\n",
      "Test accuracy: 0.9994999766349792\n",
      "3\n",
      "625/625 [==============================] - 1s 710us/step - loss: 0.0304 - accuracy: 0.9945\n",
      "Test loss: 0.03042564168572426\n",
      "Test accuracy: 0.9945499897003174\n",
      "4\n",
      "625/625 [==============================] - 1s 754us/step - loss: 0.0040 - accuracy: 0.9991\n",
      "Test loss: 0.004047711379826069\n",
      "Test accuracy: 0.9990500211715698\n",
      "5\n",
      "625/625 [==============================] - 1s 856us/step - loss: 0.0045 - accuracy: 0.9991\n",
      "Test loss: 0.004455530550330877\n",
      "Test accuracy: 0.9990500211715698\n",
      "6\n",
      "625/625 [==============================] - 1s 1ms/step - loss: 0.0126 - accuracy: 0.9973\n",
      "Test loss: 0.012600885704159737\n",
      "Test accuracy: 0.9972500205039978\n",
      "7\n",
      "625/625 [==============================] - 1s 862us/step - loss: 0.0417 - accuracy: 0.9942\n",
      "Test loss: 0.04169202223420143\n",
      "Test accuracy: 0.9942499995231628\n",
      "8\n",
      "625/625 [==============================] - 1s 812us/step - loss: 0.0022 - accuracy: 0.9994\n",
      "Test loss: 0.0021899722050875425\n",
      "Test accuracy: 0.9993500113487244\n",
      "9\n",
      "625/625 [==============================] - 1s 755us/step - loss: 2.9810e-04 - accuracy: 0.9998\n",
      "Test loss: 0.00029810270643793046\n",
      "Test accuracy: 0.9998499751091003\n"
     ]
    }
   ],
   "source": [
    "for i in range(10):\n",
    "    print(i)\n",
    "    model = Sequential()\n",
    "    model.add(Dense(12, input_dim=5, activation='relu'))\n",
    "    model.add(Dense(6, activation='relu'))\n",
    "    model.add(Dense(3, activation='relu'))\n",
    "    model.add(Dense(1, activation='sigmoid'))\n",
    "    model.load_weights('models_mlp_s/ensemble_member_'+str(i)+'.keras')\n",
    "    model.compile(loss='binary_crossentropy', optimizer='adam', metrics=['accuracy'])\n",
    "    loss, accuracy= model.evaluate(X_test_scaled, y_test)\n",
    "    accuracies.append(accuracy)\n",
    "    print(f'Test loss: {loss}')\n",
    "    print(f'Test accuracy: {accuracy}')"
   ]
  },
  {
   "cell_type": "code",
   "execution_count": 98,
   "id": "1bc37b80",
   "metadata": {},
   "outputs": [
    {
     "data": {
      "text/plain": [
       "99.81500029563904"
      ]
     },
     "execution_count": 98,
     "metadata": {},
     "output_type": "execute_result"
    }
   ],
   "source": [
    "sum(accuracies)/10*100"
   ]
  },
  {
   "cell_type": "code",
   "execution_count": 100,
   "id": "e02d5fc7",
   "metadata": {},
   "outputs": [
    {
     "name": "stdout",
     "output_type": "stream",
     "text": [
      "0\n",
      "3125/3125 [==============================] - 2s 621us/step\n",
      "1\n",
      "3125/3125 [==============================] - 2s 638us/step\n",
      "2\n",
      "3125/3125 [==============================] - 2s 647us/step\n",
      "3\n",
      "3125/3125 [==============================] - 2s 668us/step\n",
      "4\n",
      "3125/3125 [==============================] - 2s 698us/step\n",
      "5\n",
      "3125/3125 [==============================] - 2s 658us/step\n",
      "6\n",
      "3125/3125 [==============================] - 2s 660us/step\n",
      "7\n",
      "3125/3125 [==============================] - 2s 697us/step\n",
      "8\n",
      "3125/3125 [==============================] - 2s 641us/step\n",
      "9\n",
      "3125/3125 [==============================] - 2s 687us/step\n"
     ]
    }
   ],
   "source": [
    "predicted_results_ensemble = np.nan * np.zeros((10, input_scaled.shape[0], 1))\n",
    "\n",
    "for i in range(10):\n",
    "    print(i)\n",
    "    model = Sequential()\n",
    "    model.add(Dense(12, input_dim=5, activation='relu'))\n",
    "    model.add(Dense(6, activation='relu'))\n",
    "    model.add(Dense(3, activation='relu'))\n",
    "    model.add(Dense(1, activation='sigmoid'))\n",
    "    model.load_weights('models_mlp_s/ensemble_member_'+str(i)+'.keras')\n",
    "    predicted = model.predict(input_scaled)\n",
    "    predicted_results_ensemble[i,...] = predicted"
   ]
  },
  {
   "cell_type": "code",
   "execution_count": 116,
   "id": "eab5dd43",
   "metadata": {},
   "outputs": [
    {
     "data": {
      "image/png": "[encoded data removed]",
      "text/plain": [
       "<Figure size 720x720 with 12 Axes>"
      ]
     },
     "metadata": {
      "needs_background": "light"
     },
     "output_type": "display_data"
    }
   ],
   "source": [
    "fig, ax = plt.subplots(4, 3, sharex = True, sharey = True, figsize = (10, 10))\n",
    "fig.supxlabel('Time (kyr)')\n",
    "fig.supylabel('AMOC (Sv)')\n",
    "fig.suptitle('Incorrect Predictions by Ensemble Members')\n",
    "ax = ax.flatten()\n",
    "for j in range(10, 12):  # 2 extra subplots in the 4x3 grid\n",
    "    ax[j].axis('off')"
   ]
  },
  {
   "cell_type": "code",
   "execution_count": 117,
   "id": "0e6c4cf3",
   "metadata": {},
   "outputs": [],
   "source": [
    "for i in range(10):\n",
    "    ensemble_i_pred = (predicted_results_ensemble[i] > threshold).astype(int)\n",
    "    false_indices = []\n",
    "    for j in range(len(ensemble_i_pred)):\n",
    "        if ensemble_i_pred[j] != output_data[j]:\n",
    "            false_indices.append(j)\n",
    "    ax[i].plot(input_data[:, 0], qplot/Sv);\n",
    "    ax[i].plot(input_data[:, 0], input_data[:, 0]*0,'k--');\n",
    "    ax[i].set_title('Ensemble Member #' + str(i));\n",
    "    ax[i].scatter([input_data[:, 0][k] for k in false_indices], [qplot[k]/Sv for k in false_indices], marker='x', c='red');"
   ]
  },
  {
   "cell_type": "code",
   "execution_count": 118,
   "id": "1a8ac277",
   "metadata": {},
   "outputs": [
    {
     "data": {
      "text/plain": [
       "<matplotlib.legend.Legend at 0x7fa53ee9c760>"
      ]
     },
     "execution_count": 118,
     "metadata": {},
     "output_type": "execute_result"
    }
   ],
   "source": [
    "import matplotlib.lines as mlines\n",
    "red_x = mlines.Line2D([], [], color='red', marker='x', linestyle='None', label='Incorrect Prediction')\n",
    "\n",
    "# Global legend in lower right\n",
    "\n",
    "fig.legend(handles=[red_x], loc='lower right', bbox_to_anchor=(0.9, 0.2))"
   ]
  },
  {
   "cell_type": "code",
   "execution_count": 119,
   "id": "940efafe",
   "metadata": {},
   "outputs": [],
   "source": [
    "fig.savefig('figures/mlp_predictions_stationary', dpi=100)"
   ]
  }
 ],
 "metadata": {
  "kernelspec": {
   "display_name": "Python 3",
   "language": "python",
   "name": "python3"
  },
  "language_info": {
   "codemirror_mode": {
    "name": "ipython",
    "version": 3
   },
   "file_extension": ".py",
   "mimetype": "text/x-python",
   "name": "python",
   "nbconvert_exporter": "python",
   "pygments_lexer": "ipython3",
   "version": "3.8.8"
  }
 },
 "nbformat": 4,
 "nbformat_minor": 5
}
