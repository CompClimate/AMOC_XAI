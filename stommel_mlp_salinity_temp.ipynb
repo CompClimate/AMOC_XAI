{
 "cells": [
  {
   "cell_type": "code",
   "execution_count": 8,
   "id": "f6d30302",
   "metadata": {},
   "outputs": [],
   "source": [
    "import keras\n",
    "import numpy as np\n",
    "from keras.models import Sequential, Model\n",
    "from keras.layers import Dense, Reshape, Flatten, Input, Dropout\n",
    "from keras.optimizers import Adam, SGD, RMSprop\n",
    "from sklearn.preprocessing import normalize\n",
    "from sklearn.model_selection import train_test_split\n",
    "from sklearn.preprocessing import StandardScaler\n",
    "import matplotlib.pyplot as plt\n",
    "import os"
   ]
  },
  {
   "cell_type": "code",
   "execution_count": 9,
   "id": "d9e873b4",
   "metadata": {},
   "outputs": [],
   "source": [
    "# global constants\n",
    "Sv=1.e9 # m^3/sec"
   ]
  },
  {
   "cell_type": "code",
   "execution_count": 10,
   "id": "8aec4a55",
   "metadata": {},
   "outputs": [],
   "source": [
    "# salinity only, linear forcing \n",
    "input_data = np.load('data/input_sal_temp_linear.npy')\n",
    "output_data = np.load('data/output_sal_temp_linear.npy')"
   ]
  },
  {
   "cell_type": "code",
   "execution_count": 11,
   "id": "d045d5cb",
   "metadata": {},
   "outputs": [],
   "source": [
    "X_train, X_rem, y_train, y_rem = train_test_split(input_data, output_data, test_size=0.2, random_state=42)\n",
    "X_val, X_test, y_val, y_test = train_test_split(X_rem, y_rem, test_size=0.5, random_state=42)"
   ]
  },
  {
   "cell_type": "code",
   "execution_count": 12,
   "id": "5bb227fa",
   "metadata": {},
   "outputs": [],
   "source": [
    "scaler = StandardScaler()\n",
    "scaler.fit(X_train)\n",
    "scaler.mean_,scaler.scale_\n",
    "\n",
    "X_train_scaled = scaler.transform(X_train)\n",
    "X_val_scaled = scaler.transform(X_val)\n",
    "X_test_scaled = scaler.transform(X_test)\n",
    "input_scaled = scaler.transform(input_data)\n",
    "\n",
    "Y_train = keras.utils.to_categorical(y_train)\n",
    "Y_val = keras.utils.to_categorical(y_val)\n",
    "Y_test = keras.utils.to_categorical(y_test)"
   ]
  },
  {
   "cell_type": "code",
   "execution_count": 13,
   "id": "15ddddbd",
   "metadata": {},
   "outputs": [],
   "source": [
    "# defining the MLP\n",
    "model = Sequential()\n",
    "model.add(Dense(12, input_dim=5, activation='relu'))\n",
    "model.add(Dense(6, activation='relu'))\n",
    "model.add(Dense(3, activation='relu'))\n",
    "model.add(Dense(2, activation='softmax'))\n",
    "model.compile(loss='binary_crossentropy', optimizer='adam', metrics=['accuracy'])"
   ]
  },
  {
   "cell_type": "code",
   "execution_count": 14,
   "id": "f3222e31",
   "metadata": {},
   "outputs": [
    {
     "name": "stdout",
     "output_type": "stream",
     "text": [
      "Epoch 1/10\n",
      "10000/10000 [==============================] - 10s 969us/step - loss: 0.0162 - accuracy: 0.9997 - val_loss: 4.3336e-04 - val_accuracy: 0.9998\n",
      "Epoch 2/10\n",
      "10000/10000 [==============================] - 11s 1ms/step - loss: 5.7950e-04 - accuracy: 0.9999 - val_loss: 3.2311e-04 - val_accuracy: 0.9998\n",
      "Epoch 3/10\n",
      "10000/10000 [==============================] - 11s 1ms/step - loss: 5.1209e-04 - accuracy: 0.9999 - val_loss: 1.1388e-04 - val_accuracy: 1.0000\n",
      "Epoch 4/10\n",
      "10000/10000 [==============================] - 11s 1ms/step - loss: 4.3284e-04 - accuracy: 0.9999 - val_loss: 1.2833e-04 - val_accuracy: 0.9999\n",
      "Epoch 5/10\n",
      "10000/10000 [==============================] - 11s 1ms/step - loss: 3.9143e-04 - accuracy: 0.9999 - val_loss: 8.6178e-05 - val_accuracy: 1.0000\n",
      "Epoch 6/10\n",
      "10000/10000 [==============================] - 14s 1ms/step - loss: 3.0656e-04 - accuracy: 0.9999 - val_loss: 6.1099e-05 - val_accuracy: 1.0000\n",
      "Epoch 7/10\n",
      "10000/10000 [==============================] - 10s 976us/step - loss: 3.3117e-04 - accuracy: 0.9999 - val_loss: 9.1889e-05 - val_accuracy: 0.9999\n",
      "Epoch 8/10\n",
      "10000/10000 [==============================] - 9s 941us/step - loss: 2.7671e-04 - accuracy: 0.9999 - val_loss: 4.0859e-05 - val_accuracy: 1.0000\n",
      "Epoch 9/10\n",
      "10000/10000 [==============================] - 10s 957us/step - loss: 2.0498e-04 - accuracy: 1.0000 - val_loss: 5.7595e-05 - val_accuracy: 1.0000\n",
      "Epoch 10/10\n",
      "10000/10000 [==============================] - 10s 996us/step - loss: 1.9560e-04 - accuracy: 0.9999 - val_loss: 6.2722e-05 - val_accuracy: 1.0000\n"
     ]
    }
   ],
   "source": [
    "# Train the model on the training set and validate on the validation set\n",
    "model_eval = model.fit(X_train_scaled, Y_train, epochs=10, batch_size=8, validation_data=(X_val_scaled, Y_val))"
   ]
  },
  {
   "cell_type": "code",
   "execution_count": 15,
   "id": "73d160a7",
   "metadata": {},
   "outputs": [
    {
     "name": "stdout",
     "output_type": "stream",
     "text": [
      "313/313 [==============================] - 0s 759us/step - loss: 1.2818e-05 - accuracy: 1.0000\n",
      "Test loss: 1.2817844435630832e-05\n",
      "Test accuracy: 1.0\n"
     ]
    }
   ],
   "source": [
    "loss, accuracy = model.evaluate(X_test_scaled, Y_test)\n",
    "print(f'Test loss: {loss}')\n",
    "print(f'Test accuracy: {accuracy}')"
   ]
  },
  {
   "cell_type": "code",
   "execution_count": 16,
   "id": "48d330bc",
   "metadata": {},
   "outputs": [
    {
     "data": {
      "image/png": "[encoded data removed]",
      "text/plain": [
       "<Figure size 432x288 with 1 Axes>"
      ]
     },
     "metadata": {
      "needs_background": "light"
     },
     "output_type": "display_data"
    }
   ],
   "source": [
    "plt.plot(model_eval.history['loss'], label='Training Loss');\n",
    "plt.plot(model_eval.history['val_loss'], label='Validation Loss');\n",
    "plt.title('Loss Plot');\n",
    "plt.legend();"
   ]
  },
  {
   "cell_type": "code",
   "execution_count": 17,
   "id": "d82995ad",
   "metadata": {},
   "outputs": [
    {
     "name": "stdout",
     "output_type": "stream",
     "text": [
      "3125/3125 [==============================] - 2s 718us/step\n"
     ]
    }
   ],
   "source": [
    "y_pred_all = model.predict(input_scaled)"
   ]
  },
  {
   "cell_type": "code",
   "execution_count": 18,
   "id": "25727803",
   "metadata": {},
   "outputs": [],
   "source": [
    "y_labels_all = np.argmax(y_pred_all, axis=-1)"
   ]
  },
  {
   "cell_type": "code",
   "execution_count": 19,
   "id": "24225083",
   "metadata": {},
   "outputs": [],
   "source": [
    "false_indices_sal_temp_linear = []\n",
    "for i in range(len(y_labels_all)):\n",
    "    if y_labels_all[i] != output_data[i]:\n",
    "        false_indices_sal_temp_linear.append(i)"
   ]
  },
  {
   "cell_type": "code",
   "execution_count": 20,
   "id": "90449b71",
   "metadata": {},
   "outputs": [],
   "source": [
    "qplot = np.load('data/q_sal_temp_linear.npy')"
   ]
  },
  {
   "cell_type": "code",
   "execution_count": 22,
   "id": "7ed15f7f",
   "metadata": {},
   "outputs": [
    {
     "data": {
      "image/png": "[encoded data removed]",
      "text/plain": [
       "<Figure size 432x288 with 1 Axes>"
      ]
     },
     "metadata": {
      "needs_background": "light"
     },
     "output_type": "display_data"
    }
   ],
   "source": [
    "plt.plot(input_data[:, 0], qplot/Sv);\n",
    "plt.plot(input_data[:, 0], input_data[:, 0]*0,'k--');\n",
    "plt.xlabel('t (time in kiloyears)');\n",
    "plt.ylabel('$q$');\n",
    "plt.title('Incorrect Predictions for AMOC');\n",
    "plt.scatter([input_data[:, 0][i] for i in false_indices_sal_temp_linear], [qplot[i]/Sv for i in false_indices_sal_temp_linear], marker='x', c='red');"
   ]
  },
  {
   "cell_type": "code",
   "execution_count": 23,
   "id": "97802ae0",
   "metadata": {},
   "outputs": [
    {
     "name": "stdout",
     "output_type": "stream",
     "text": [
      "0\n",
      "1\n",
      "2\n",
      "3\n",
      "4\n",
      "5\n",
      "6\n",
      "Epoch 8: early stopping\n",
      "7\n",
      "8\n",
      "9\n"
     ]
    }
   ],
   "source": [
    "# training the ensemble \n",
    "for i in range(10):\n",
    "    print(i)\n",
    "    model = Sequential()\n",
    "    model.add(Dense(12, input_dim=5, activation='relu'))\n",
    "    model.add(Dense(6, activation='relu'))\n",
    "    model.add(Dense(3, activation='relu'))\n",
    "    model.add(Dense(2, activation='softmax'))\n",
    "    model.compile(loss='binary_crossentropy', optimizer='adam', metrics=['accuracy'])\n",
    "    es = keras.callbacks.EarlyStopping(monitor='val_loss', mode='min', verbose=1, patience=5)\n",
    "    history = model.fit(X_train_scaled, Y_train,\n",
    "                    batch_size=8,\n",
    "                    epochs=10,\n",
    "                    verbose=0,\n",
    "                    validation_data=(X_val_scaled, Y_val),\n",
    "                    callbacks=[es])#,\n",
    "    os.makedirs(\"models\", exist_ok=True)\n",
    "    model.save('models/stommel_model_ts_linear_'+str(i)+'.h5')"
   ]
  },
  {
   "cell_type": "code",
   "execution_count": 24,
   "id": "9872a7cc",
   "metadata": {},
   "outputs": [
    {
     "data": {
      "image/png": "[encoded data removed]",
      "text/plain": [
       "<Figure size 432x288 with 1 Axes>"
      ]
     },
     "metadata": {
      "needs_background": "light"
     },
     "output_type": "display_data"
    }
   ],
   "source": [
    "plt.plot(history.history['loss'], label='Training Loss');\n",
    "plt.plot(history.history['val_loss'], label='Validation Loss');\n",
    "plt.title('Loss Plot for Ensemble')\n",
    "plt.legend();"
   ]
  },
  {
   "cell_type": "code",
   "execution_count": 25,
   "id": "166d25bf",
   "metadata": {},
   "outputs": [
    {
     "name": "stdout",
     "output_type": "stream",
     "text": [
      "0\n",
      "313/313 [==============================] - 0s 781us/step - loss: 2.8520e-05 - accuracy: 1.0000\n",
      "Test loss: 2.8519576517282985e-05\n",
      "Test accuracy: 1.0\n",
      "1\n",
      "313/313 [==============================] - 0s 928us/step - loss: 3.0977e-05 - accuracy: 1.0000\n",
      "Test loss: 3.0976691050454974e-05\n",
      "Test accuracy: 1.0\n",
      "2\n",
      "313/313 [==============================] - 0s 799us/step - loss: 3.7061e-05 - accuracy: 1.0000\n",
      "Test loss: 3.7061297916807234e-05\n",
      "Test accuracy: 1.0\n",
      "3\n",
      "313/313 [==============================] - 0s 745us/step - loss: 2.7053e-04 - accuracy: 0.9999\n",
      "Test loss: 0.0002705298538785428\n",
      "Test accuracy: 0.9998999834060669\n",
      "4\n",
      "313/313 [==============================] - 0s 809us/step - loss: 4.2231e-04 - accuracy: 0.9998\n",
      "Test loss: 0.0004223130235914141\n",
      "Test accuracy: 0.9998000264167786\n",
      "5\n",
      "313/313 [==============================] - 0s 1ms/step - loss: 1.0149e-06 - accuracy: 1.0000\n",
      "Test loss: 1.0148977480639587e-06\n",
      "Test accuracy: 1.0\n",
      "6\n",
      "313/313 [==============================] - 1s 1ms/step - loss: 0.6932 - accuracy: 0.4965\n",
      "Test loss: 0.6931915283203125\n",
      "Test accuracy: 0.4964999854564667\n",
      "7\n",
      "313/313 [==============================] - 1s 1ms/step - loss: 1.5465e-05 - accuracy: 1.0000\n",
      "Test loss: 1.54646004375536e-05\n",
      "Test accuracy: 1.0\n",
      "8\n",
      "313/313 [==============================] - 1s 1ms/step - loss: 6.7861e-05 - accuracy: 1.0000\n",
      "Test loss: 6.786142330383882e-05\n",
      "Test accuracy: 1.0\n",
      "9\n",
      "313/313 [==============================] - 0s 839us/step - loss: 0.6931 - accuracy: 0.5035\n",
      "Test loss: 0.6931234002113342\n",
      "Test accuracy: 0.5034999847412109\n"
     ]
    }
   ],
   "source": [
    "for i in range(10):\n",
    "    print(i)\n",
    "    model = Sequential()\n",
    "    model.add(Dense(12, input_dim=5, activation='relu'))\n",
    "    model.add(Dense(6, activation='relu'))\n",
    "    model.add(Dense(3, activation='relu'))\n",
    "    model.add(Dense(2, activation='softmax'))\n",
    "    model.load_weights('models/stommel_model_ts_linear_'+str(i)+'.h5')\n",
    "    model.compile(loss='binary_crossentropy', optimizer='adam', metrics=['accuracy'])\n",
    "    loss, accuracy= model.evaluate(X_test_scaled, Y_test)\n",
    "    print(f'Test loss: {loss}')\n",
    "    print(f'Test accuracy: {accuracy}')"
   ]
  },
  {
   "cell_type": "code",
   "execution_count": 26,
   "id": "8cafbe93",
   "metadata": {},
   "outputs": [
    {
     "name": "stdout",
     "output_type": "stream",
     "text": [
      "0\n",
      "3125/3125 [==============================] - 2s 623us/step\n",
      "1\n",
      "3125/3125 [==============================] - 3s 898us/step\n",
      "2\n",
      "3125/3125 [==============================] - 2s 587us/step\n",
      "3\n",
      "3125/3125 [==============================] - 3s 831us/step\n",
      "4\n",
      "3125/3125 [==============================] - 2s 750us/step\n",
      "5\n",
      "3125/3125 [==============================] - 2s 768us/step\n",
      "6\n",
      "3125/3125 [==============================] - 2s 583us/step\n",
      "7\n",
      "3125/3125 [==============================] - 3s 837us/step\n",
      "8\n",
      "3125/3125 [==============================] - 2s 658us/step\n",
      "9\n",
      "3125/3125 [==============================] - 2s 590us/step\n"
     ]
    }
   ],
   "source": [
    "datapredicted_results_ensemble = np.nan * np.zeros((10, input_scaled.shape[0], 2))\n",
    "\n",
    "for i in range(10):\n",
    "    print(i)\n",
    "    model = Sequential()\n",
    "    model.add(Dense(12, input_dim=5, activation='relu'))\n",
    "    model.add(Dense(6, activation='relu'))\n",
    "    model.add(Dense(3, activation='relu'))\n",
    "    model.add(Dense(2, activation='softmax'))\n",
    "    model.load_weights('models/stommel_model_ts_linear_'+str(i)+'.h5')\n",
    "    datapredicted = model.predict(input_scaled)\n",
    "    datapredicted_results_ensemble[i,...] = datapredicted"
   ]
  },
  {
   "cell_type": "code",
   "execution_count": 27,
   "id": "bdb19b37",
   "metadata": {},
   "outputs": [],
   "source": [
    "y_pred_ensemble = np.mean(datapredicted_results_ensemble, 0).argmax(axis=-1)"
   ]
  },
  {
   "cell_type": "code",
   "execution_count": 28,
   "id": "ce482d5c",
   "metadata": {},
   "outputs": [],
   "source": [
    "false_indices_ts_linear_ensemble = []"
   ]
  },
  {
   "cell_type": "code",
   "execution_count": 29,
   "id": "21636460",
   "metadata": {},
   "outputs": [],
   "source": [
    "for i in range(len(y_pred_ensemble)):\n",
    "    if y_pred_ensemble[i] != output_data[i]:\n",
    "        false_indices_ts_linear_ensemble.append(i)"
   ]
  },
  {
   "cell_type": "code",
   "execution_count": 32,
   "id": "71e87d80",
   "metadata": {},
   "outputs": [
    {
     "data": {
      "text/plain": [
       "[0, 50146, 50147, 50148]"
      ]
     },
     "execution_count": 32,
     "metadata": {},
     "output_type": "execute_result"
    }
   ],
   "source": [
    "false_indices_ts_linear_ensemble"
   ]
  },
  {
   "cell_type": "code",
   "execution_count": 33,
   "id": "1db186a5",
   "metadata": {},
   "outputs": [
    {
     "data": {
      "image/png": "[encoded data removed]",
      "text/plain": [
       "<Figure size 432x288 with 1 Axes>"
      ]
     },
     "metadata": {
      "needs_background": "light"
     },
     "output_type": "display_data"
    }
   ],
   "source": [
    "plt.plot(input_data[:, 0], qplot/Sv);\n",
    "plt.plot(input_data[:, 0], input_data[:, 0]*0,'k--');\n",
    "plt.xlabel('t (time in kiloyears)');\n",
    "plt.ylabel('$q$');\n",
    "plt.title('Incorrect Predictions for AMOC (Ensemble)');\n",
    "plt.scatter([input_data[:, 0][i] for i in false_indices_ts_linear_ensemble], [qplot[i]/Sv for i in false_indices_ts_linear_ensemble], marker='x', c='red');"
   ]
  },
  {
   "cell_type": "code",
   "execution_count": 34,
   "id": "8dc72573",
   "metadata": {},
   "outputs": [],
   "source": [
    "# salinity and temp, sine forcing \n",
    "input_data = np.load('data/input_sal_temp_sine.npy')\n",
    "output_data = np.load('data/output_sal_temp_sine.npy')"
   ]
  },
  {
   "cell_type": "code",
   "execution_count": 35,
   "id": "10eb81aa",
   "metadata": {},
   "outputs": [],
   "source": [
    "X_train, X_rem, y_train, y_rem = train_test_split(input_data, output_data, test_size=0.2, random_state=42)\n",
    "X_val, X_test, y_val, y_test = train_test_split(X_rem, y_rem, test_size=0.5, random_state=42)"
   ]
  },
  {
   "cell_type": "code",
   "execution_count": 36,
   "id": "612967fb",
   "metadata": {},
   "outputs": [],
   "source": [
    "scaler = StandardScaler()\n",
    "scaler.fit(X_train)\n",
    "scaler.mean_,scaler.scale_\n",
    "\n",
    "X_train_scaled = scaler.transform(X_train)\n",
    "X_val_scaled = scaler.transform(X_val)\n",
    "X_test_scaled = scaler.transform(X_test)\n",
    "input_scaled = scaler.transform(input_data)\n",
    "\n",
    "Y_train = keras.utils.to_categorical(y_train)\n",
    "Y_val = keras.utils.to_categorical(y_val)\n",
    "Y_test = keras.utils.to_categorical(y_test)"
   ]
  },
  {
   "cell_type": "code",
   "execution_count": 39,
   "id": "e6499ca3",
   "metadata": {},
   "outputs": [],
   "source": [
    "model.compile(loss='binary_crossentropy', optimizer='adam', metrics=['accuracy'])"
   ]
  },
  {
   "cell_type": "code",
   "execution_count": 40,
   "id": "f8885fc9",
   "metadata": {},
   "outputs": [
    {
     "name": "stdout",
     "output_type": "stream",
     "text": [
      "Epoch 1/10\n",
      "10000/10000 [==============================] - 10s 948us/step - loss: 0.0663 - accuracy: 0.9950 - val_loss: 0.0037 - val_accuracy: 0.9996\n",
      "Epoch 2/10\n",
      "10000/10000 [==============================] - 10s 966us/step - loss: 0.0015 - accuracy: 0.9998 - val_loss: 5.7532e-04 - val_accuracy: 0.9999\n",
      "Epoch 3/10\n",
      "10000/10000 [==============================] - 9s 930us/step - loss: 5.4119e-04 - accuracy: 0.9999 - val_loss: 3.8208e-04 - val_accuracy: 0.9999\n",
      "Epoch 4/10\n",
      "10000/10000 [==============================] - 9s 935us/step - loss: 3.1666e-04 - accuracy: 0.9999 - val_loss: 1.7139e-04 - val_accuracy: 1.0000\n",
      "Epoch 5/10\n",
      "10000/10000 [==============================] - 10s 967us/step - loss: 2.9425e-04 - accuracy: 0.9999 - val_loss: 1.0892e-04 - val_accuracy: 1.0000\n",
      "Epoch 6/10\n",
      "10000/10000 [==============================] - 10s 981us/step - loss: 2.5170e-04 - accuracy: 0.9999 - val_loss: 2.7009e-04 - val_accuracy: 0.9999\n",
      "Epoch 7/10\n",
      "10000/10000 [==============================] - 10s 982us/step - loss: 2.4863e-04 - accuracy: 0.9999 - val_loss: 9.6547e-05 - val_accuracy: 1.0000\n",
      "Epoch 8/10\n",
      "10000/10000 [==============================] - 10s 973us/step - loss: 1.9755e-04 - accuracy: 0.9999 - val_loss: 6.0510e-05 - val_accuracy: 1.0000\n",
      "Epoch 9/10\n",
      "10000/10000 [==============================] - 10s 994us/step - loss: 1.5483e-04 - accuracy: 0.9999 - val_loss: 1.5236e-04 - val_accuracy: 0.9999\n",
      "Epoch 10/10\n",
      "10000/10000 [==============================] - 10s 1ms/step - loss: 1.9205e-04 - accuracy: 0.9999 - val_loss: 5.2903e-05 - val_accuracy: 1.0000\n"
     ]
    }
   ],
   "source": [
    "# Train the model on the training set and validate on the validation set\n",
    "model_eval = model.fit(X_train_scaled, Y_train, epochs=10, batch_size=8, validation_data=(X_val_scaled, Y_val))"
   ]
  },
  {
   "cell_type": "code",
   "execution_count": 41,
   "id": "b88a97ff",
   "metadata": {},
   "outputs": [
    {
     "name": "stdout",
     "output_type": "stream",
     "text": [
      "313/313 [==============================] - 0s 896us/step - loss: 6.0085e-04 - accuracy: 0.9998\n",
      "Test loss: 0.0006008456111885607\n",
      "Test accuracy: 0.9998000264167786\n"
     ]
    }
   ],
   "source": [
    "loss, accuracy = model.evaluate(X_test_scaled, Y_test)\n",
    "print(f'Test loss: {loss}')\n",
    "print(f'Test accuracy: {accuracy}')"
   ]
  },
  {
   "cell_type": "code",
   "execution_count": 42,
   "id": "4b55f391",
   "metadata": {},
   "outputs": [
    {
     "data": {
      "image/png": "[encoded data removed]",
      "text/plain": [
       "<Figure size 432x288 with 1 Axes>"
      ]
     },
     "metadata": {
      "needs_background": "light"
     },
     "output_type": "display_data"
    }
   ],
   "source": [
    "plt.plot(model_eval.history['loss'], label='Training Loss');\n",
    "plt.plot(model_eval.history['val_loss'], label='Validation Loss');\n",
    "plt.title('Loss Plot');\n",
    "plt.legend();"
   ]
  },
  {
   "cell_type": "code",
   "execution_count": 43,
   "id": "b2e58685",
   "metadata": {},
   "outputs": [
    {
     "name": "stdout",
     "output_type": "stream",
     "text": [
      "3125/3125 [==============================] - 2s 661us/step\n"
     ]
    }
   ],
   "source": [
    "y_pred_all = model.predict(input_scaled)"
   ]
  },
  {
   "cell_type": "code",
   "execution_count": 44,
   "id": "91d90771",
   "metadata": {},
   "outputs": [],
   "source": [
    "y_labels_all = np.argmax(y_pred_all, axis=-1)"
   ]
  },
  {
   "cell_type": "code",
   "execution_count": 45,
   "id": "54db2f0e",
   "metadata": {},
   "outputs": [],
   "source": [
    "false_indices_sal_temp_sine = []\n",
    "for i in range(len(y_labels_all)):\n",
    "    if y_labels_all[i] != output_data[i]:\n",
    "        false_indices_sal_temp_sine.append(i)"
   ]
  },
  {
   "cell_type": "code",
   "execution_count": 47,
   "id": "eb45d437",
   "metadata": {},
   "outputs": [],
   "source": [
    "qplot = np.load('data/q_sal_temp_sine.npy')"
   ]
  },
  {
   "cell_type": "code",
   "execution_count": 48,
   "id": "3d1d8a1b",
   "metadata": {},
   "outputs": [
    {
     "data": {
      "image/png": "[encoded data removed]",
      "text/plain": [
       "<Figure size 432x288 with 1 Axes>"
      ]
     },
     "metadata": {
      "needs_background": "light"
     },
     "output_type": "display_data"
    }
   ],
   "source": [
    "plt.plot(input_data[:, 0], qplot/Sv);\n",
    "plt.plot(input_data[:, 0], input_data[:, 0]*0,'k--');\n",
    "plt.xlabel('t (time in kiloyears)');\n",
    "plt.ylabel('$q$');\n",
    "plt.title('Incorrect Predictions for AMOC');\n",
    "plt.scatter([input_data[:, 0][i]for i in false_indices_sal_temp_sine], [qplot[i]/Sv for i in false_indices_sal_temp_sine], marker='x', c='red');"
   ]
  },
  {
   "cell_type": "code",
   "execution_count": 49,
   "id": "a601aa0a",
   "metadata": {},
   "outputs": [
    {
     "name": "stdout",
     "output_type": "stream",
     "text": [
      "0\n",
      "1\n",
      "2\n",
      "3\n",
      "4\n",
      "5\n",
      "6\n",
      "7\n",
      "8\n",
      "9\n"
     ]
    }
   ],
   "source": [
    "# training the ensemble \n",
    "for i in range(10):\n",
    "    print(i)\n",
    "    model = Sequential()\n",
    "    model.add(Dense(12, input_dim=5, activation='relu'))\n",
    "    model.add(Dense(6, activation='relu'))\n",
    "    model.add(Dense(3, activation='relu'))\n",
    "    model.add(Dense(2, activation='softmax'))\n",
    "    model.compile(loss='binary_crossentropy', optimizer='adam', metrics=['accuracy'])\n",
    "    es = keras.callbacks.EarlyStopping(monitor='val_loss', mode='min', verbose=1, patience=5)\n",
    "    history = model.fit(X_train_scaled, Y_train,\n",
    "                    batch_size=8,\n",
    "                    epochs=10,\n",
    "                    verbose=0,\n",
    "                    validation_data=(X_val_scaled, Y_val),\n",
    "                    callbacks=[es])#,\n",
    "    os.makedirs(\"models\", exist_ok=True)\n",
    "    model.save('models/stommel_model_ts_sine_'+str(i)+'.h5')"
   ]
  },
  {
   "cell_type": "code",
   "execution_count": 50,
   "id": "098bba14",
   "metadata": {},
   "outputs": [
    {
     "data": {
      "image/png": "[encoded data removed]",
      "text/plain": [
       "<Figure size 432x288 with 1 Axes>"
      ]
     },
     "metadata": {
      "needs_background": "light"
     },
     "output_type": "display_data"
    }
   ],
   "source": [
    "plt.plot(history.history['loss'], label='Training Loss');\n",
    "plt.plot(history.history['val_loss'], label='Validation Loss');\n",
    "plt.title('Loss Plot for Ensemble')\n",
    "plt.legend();"
   ]
  },
  {
   "cell_type": "code",
   "execution_count": 51,
   "id": "d790f408",
   "metadata": {},
   "outputs": [
    {
     "name": "stdout",
     "output_type": "stream",
     "text": [
      "0\n",
      "313/313 [==============================] - 0s 882us/step - loss: 1.9215e-04 - accuracy: 0.9999\n",
      "Test loss: 0.0001921507209772244\n",
      "Test accuracy: 0.9998999834060669\n",
      "1\n",
      "313/313 [==============================] - 0s 914us/step - loss: 2.7962e-05 - accuracy: 1.0000\n",
      "Test loss: 2.796238368318882e-05\n",
      "Test accuracy: 1.0\n",
      "2\n",
      "313/313 [==============================] - 0s 757us/step - loss: 5.2366e-05 - accuracy: 1.0000\n",
      "Test loss: 5.236604920355603e-05\n",
      "Test accuracy: 1.0\n",
      "3\n",
      "313/313 [==============================] - 0s 765us/step - loss: 5.3026e-04 - accuracy: 0.9997\n",
      "Test loss: 0.0005302649224177003\n",
      "Test accuracy: 0.9997000098228455\n",
      "4\n",
      "313/313 [==============================] - 0s 818us/step - loss: 5.3513e-05 - accuracy: 1.0000\n",
      "Test loss: 5.351263826014474e-05\n",
      "Test accuracy: 1.0\n",
      "5\n",
      "313/313 [==============================] - 0s 820us/step - loss: 1.2610e-04 - accuracy: 0.9999\n",
      "Test loss: 0.00012609906843863428\n",
      "Test accuracy: 0.9998999834060669\n",
      "6\n",
      "313/313 [==============================] - 0s 754us/step - loss: 9.6352e-04 - accuracy: 0.9997\n",
      "Test loss: 0.0009635215974412858\n",
      "Test accuracy: 0.9997000098228455\n",
      "7\n",
      "313/313 [==============================] - 0s 779us/step - loss: 1.0688e-04 - accuracy: 1.0000\n",
      "Test loss: 0.00010687997564673424\n",
      "Test accuracy: 1.0\n",
      "8\n",
      "313/313 [==============================] - 0s 888us/step - loss: 5.3281e-05 - accuracy: 1.0000\n",
      "Test loss: 5.3280939027899876e-05\n",
      "Test accuracy: 1.0\n",
      "9\n",
      "313/313 [==============================] - 1s 1ms/step - loss: 1.3033e-04 - accuracy: 0.9999\n",
      "Test loss: 0.00013033239520154893\n",
      "Test accuracy: 0.9998999834060669\n"
     ]
    }
   ],
   "source": [
    "for i in range(10):\n",
    "    print(i)\n",
    "    model = Sequential()\n",
    "    model.add(Dense(12, input_dim=5, activation='relu'))\n",
    "    model.add(Dense(6, activation='relu'))\n",
    "    model.add(Dense(3, activation='relu'))\n",
    "    model.add(Dense(2, activation='softmax'))\n",
    "    model.load_weights('models/stommel_model_ts_sine_'+str(i)+'.h5')\n",
    "    model.compile(loss='binary_crossentropy', optimizer='adam', metrics=['accuracy'])\n",
    "    loss, accuracy= model.evaluate(X_test_scaled, Y_test)\n",
    "    print(f'Test loss: {loss}')\n",
    "    print(f'Test accuracy: {accuracy}')"
   ]
  },
  {
   "cell_type": "code",
   "execution_count": 53,
   "id": "b9337f27",
   "metadata": {},
   "outputs": [
    {
     "name": "stdout",
     "output_type": "stream",
     "text": [
      "0\n",
      "3125/3125 [==============================] - 2s 608us/step\n",
      "1\n",
      "3125/3125 [==============================] - 2s 705us/step\n",
      "2\n",
      "3125/3125 [==============================] - 2s 608us/step\n",
      "3\n",
      "3125/3125 [==============================] - 2s 625us/step\n",
      "4\n",
      "3125/3125 [==============================] - 2s 597us/step\n",
      "5\n",
      "3125/3125 [==============================] - 2s 583us/step\n",
      "6\n",
      "3125/3125 [==============================] - 2s 583us/step\n",
      "7\n",
      "3125/3125 [==============================] - 2s 591us/step\n",
      "8\n",
      "3125/3125 [==============================] - 2s 635us/step\n",
      "9\n",
      "3125/3125 [==============================] - 2s 597us/step\n"
     ]
    }
   ],
   "source": [
    "datapredicted_results_ensemble = np.nan * np.zeros((10, input_scaled.shape[0], 2))\n",
    "\n",
    "for i in range(10):\n",
    "    print(i)\n",
    "    model = Sequential()\n",
    "    model.add(Dense(12, input_dim=5, activation='relu'))\n",
    "    model.add(Dense(6, activation='relu'))\n",
    "    model.add(Dense(3, activation='relu'))\n",
    "    model.add(Dense(2, activation='softmax'))\n",
    "    model.load_weights('models/stommel_model_ts_sine_'+str(i)+'.h5')\n",
    "    datapredicted = model.predict(input_scaled)\n",
    "    datapredicted_results_ensemble[i,...] = datapredicted"
   ]
  },
  {
   "cell_type": "code",
   "execution_count": 54,
   "id": "d7c95b1e",
   "metadata": {},
   "outputs": [],
   "source": [
    "y_pred_ensemble = np.mean(datapredicted_results_ensemble, 0).argmax(axis=-1)"
   ]
  },
  {
   "cell_type": "code",
   "execution_count": 55,
   "id": "f6b25eab",
   "metadata": {},
   "outputs": [],
   "source": [
    "false_indices_ts_sine_ensemble = []"
   ]
  },
  {
   "cell_type": "code",
   "execution_count": 56,
   "id": "7103ed6b",
   "metadata": {},
   "outputs": [],
   "source": [
    "for i in range(len(y_pred_ensemble)):\n",
    "    if y_pred_ensemble[i] != output_data[i]:\n",
    "        false_indices_ts_sine_ensemble.append(i)"
   ]
  },
  {
   "cell_type": "code",
   "execution_count": 57,
   "id": "3f6241ff",
   "metadata": {},
   "outputs": [
    {
     "data": {
      "image/png": "[encoded data removed]",
      "text/plain": [
       "<Figure size 432x288 with 1 Axes>"
      ]
     },
     "metadata": {
      "needs_background": "light"
     },
     "output_type": "display_data"
    }
   ],
   "source": [
    "plt.plot(input_data[:, 0], qplot/Sv);\n",
    "plt.plot(input_data[:, 0], input_data[:, 0]*0,'k--');\n",
    "plt.xlabel('t (time in kiloyears)');\n",
    "plt.ylabel('$q$');\n",
    "plt.title('Incorrect Predictions for AMOC (Ensemble)');\n",
    "plt.scatter([input_data[:, 0][i] for i in false_indices_ts_sine_ensemble], [qplot[i]/Sv for i in false_indices_ts_sine_ensemble], marker='x', c='red');"
   ]
  },
  {
   "cell_type": "code",
   "execution_count": null,
   "id": "a3dd2d0e",
   "metadata": {},
   "outputs": [],
   "source": []
  }
 ],
 "metadata": {
  "kernelspec": {
   "display_name": "Python 3",
   "language": "python",
   "name": "python3"
  },
  "language_info": {
   "codemirror_mode": {
    "name": "ipython",
    "version": 3
   },
   "file_extension": ".py",
   "mimetype": "text/x-python",
   "name": "python",
   "nbconvert_exporter": "python",
   "pygments_lexer": "ipython3",
   "version": "3.8.8"
  }
 },
 "nbformat": 4,
 "nbformat_minor": 5
}
